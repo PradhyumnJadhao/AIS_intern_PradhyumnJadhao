{
 "cells": [
  {
   "cell_type": "code",
   "execution_count": 1,
   "id": "78bf202e-3b34-4ce9-800a-b468ca3c1b04",
   "metadata": {},
   "outputs": [
    {
     "name": "stdin",
     "output_type": "stream",
     "text": [
      "Enter any integer number:  0\n"
     ]
    },
    {
     "name": "stdout",
     "output_type": "stream",
     "text": [
      "The entered number is Zero\n"
     ]
    }
   ],
   "source": [
    "#1.Write a Python program that checks if a number is positive, negative, or zero using an if-else statement.\n",
    "\n",
    "num = int(input(\"Enter any integer number: \"))\n",
    "if num == 0:\n",
    "    print(\"The entered number is Zero\")\n",
    "elif num > 0:\n",
    "    print(\"The entered number is positive\")\n",
    "else:\n",
    "    print(\"The entered number is negative\")"
   ]
  },
  {
   "cell_type": "code",
   "execution_count": 2,
   "id": "b6f1ee22-5e01-4581-8e61-a210798e9d6c",
   "metadata": {},
   "outputs": [
    {
     "name": "stdin",
     "output_type": "stream",
     "text": [
      "Enter any year:  2024\n"
     ]
    },
    {
     "name": "stdout",
     "output_type": "stream",
     "text": [
      "The entered year is Leap year\n"
     ]
    }
   ],
   "source": [
    "#2.Create a program to check if a given year is a leap year or not.\n",
    "\n",
    "year = int(input(\"Enter any year: \"))\n",
    "if year%4==0:\n",
    "    print(\"The entered year is Leap year\")\n",
    "else:\n",
    "    print(\"The entered year is NOT Leap year\")"
   ]
  },
  {
   "cell_type": "code",
   "execution_count": 3,
   "id": "533c759f-e6c4-430d-ad15-6c4d227070ed",
   "metadata": {},
   "outputs": [
    {
     "name": "stdin",
     "output_type": "stream",
     "text": [
      "Enter any number:  2\n"
     ]
    },
    {
     "name": "stdout",
     "output_type": "stream",
     "text": [
      "The entered number is even\n"
     ]
    }
   ],
   "source": [
    "#3.Write a Python program to determine if a given number is even or odd using if-else.\n",
    "\n",
    "num = int(input(\"Enter any number: \"))\n",
    "if num%2==0:\n",
    "    print(\"The entered number is even\")\n",
    "else:\n",
    "    print(\"The entred number is odd\")"
   ]
  },
  {
   "cell_type": "code",
   "execution_count": 4,
   "id": "b2f239ce-941b-4c56-a337-948694f9f6d7",
   "metadata": {},
   "outputs": [
    {
     "name": "stdin",
     "output_type": "stream",
     "text": [
      "Enter your age:  18\n"
     ]
    },
    {
     "name": "stdout",
     "output_type": "stream",
     "text": [
      "You are eligible of voting\n"
     ]
    }
   ],
   "source": [
    "#4.Write a Python program that checks if a person is eligible to vote (age >= 18).\n",
    "\n",
    "age = int(input(\"Enter your age: \"))\n",
    "if age >= 18:\n",
    "    print(\"You are eligible of voting\")\n",
    "else:\n",
    "    print(\"You are NOT eligible for voting\")"
   ]
  },
  {
   "cell_type": "code",
   "execution_count": 5,
   "id": "018049d8-9804-4792-835c-4d435ef62268",
   "metadata": {},
   "outputs": [
    {
     "name": "stdin",
     "output_type": "stream",
     "text": [
      "Enter any string :  hello world\n"
     ]
    },
    {
     "name": "stdout",
     "output_type": "stream",
     "text": [
      "0\n"
     ]
    }
   ],
   "source": [
    "#5.Create a program to check if a string contains the letter 'a'.\n",
    "\n",
    "s = input(\"Enter any string : \")\n",
    "count = 0\n",
    "for i in s:\n",
    "    if i == 'a':\n",
    "        count += 1\n",
    "print(count)"
   ]
  },
  {
   "cell_type": "code",
   "execution_count": 6,
   "id": "04c527f2-0da2-411d-9f7d-f3f03396a1a5",
   "metadata": {},
   "outputs": [
    {
     "name": "stdin",
     "output_type": "stream",
     "text": [
      "Enter any number:  15\n"
     ]
    },
    {
     "name": "stdout",
     "output_type": "stream",
     "text": [
      "The entered number is divisible by 3 and 5\n"
     ]
    }
   ],
   "source": [
    "#6.Write a program to check if a number is divisible by 3 and 5 using if-else.\n",
    "\n",
    "num = int(input(\"Enter any number: \"))\n",
    "if num%3==0 and num%5==0:\n",
    "    print(\"The entered number is divisible by 3 and 5\")\n",
    "else:\n",
    "    print(\"The entered number is NOT divisible by 3 and 5\")"
   ]
  },
  {
   "cell_type": "code",
   "execution_count": 7,
   "id": "2db92b7a-f771-40c4-9fbd-08d36419ce30",
   "metadata": {},
   "outputs": [
    {
     "name": "stdin",
     "output_type": "stream",
     "text": [
      "Enter any number:  100\n"
     ]
    },
    {
     "name": "stdout",
     "output_type": "stream",
     "text": [
      "The entred number is below or equal to 100\n"
     ]
    }
   ],
   "source": [
    "#7.Write a Python program that checks if a number is greater than 100, and prints “Above 100” or “Below or Equal to 100”.\n",
    "\n",
    "num = int(input(\"Enter any number: \"))\n",
    "if num>100:\n",
    "    print(\"The entered number is above 100\")\n",
    "else:\n",
    "    print(\"The entred number is below or equal to 100\")"
   ]
  },
  {
   "cell_type": "code",
   "execution_count": 8,
   "id": "cbadc398-8ac4-4b13-8ef4-55db07b5d174",
   "metadata": {},
   "outputs": [
    {
     "name": "stdin",
     "output_type": "stream",
     "text": [
      "Enter any character :  e\n"
     ]
    },
    {
     "name": "stdout",
     "output_type": "stream",
     "text": [
      "Entered character is a vowel\n"
     ]
    }
   ],
   "source": [
    "#8.Create a program that checks whether a character is a vowel or consonant.\n",
    "\n",
    "ch = input(\"Enter any character : \")\n",
    "if ch=='a' or ch=='e' or ch=='i' or ch=='o' or ch=='u':\n",
    "    print(\"Entered character is a vowel\")\n",
    "else:\n",
    "    print(\"Entered character is a consonant\")"
   ]
  },
  {
   "cell_type": "code",
   "execution_count": 9,
   "id": "c5227c3b-50ee-4f00-97e6-e7262c1370e7",
   "metadata": {},
   "outputs": [
    {
     "name": "stdin",
     "output_type": "stream",
     "text": [
      "Enter any 3 numbers :  23 45 1\n"
     ]
    },
    {
     "name": "stdout",
     "output_type": "stream",
     "text": [
      "45\n"
     ]
    }
   ],
   "source": [
    "#9.Write a Python program to find the largest of three numbers using if-else.\n",
    "\n",
    "num1,num2,num3 = input(\"Enter any 3 numbers : \").split()\n",
    "maxnum = max(num1,num2,num3)\n",
    "print(maxnum)"
   ]
  },
  {
   "cell_type": "code",
   "execution_count": 32,
   "id": "227f35f4-27dc-4c18-9d47-07674667ec0c",
   "metadata": {},
   "outputs": [
    {
     "name": "stdin",
     "output_type": "stream",
     "text": [
      "Enter any number:  34\n"
     ]
    },
    {
     "name": "stdout",
     "output_type": "stream",
     "text": [
      "The entered number is within range 1 to 100\n"
     ]
    }
   ],
   "source": [
    "#10.Write a program that checks if a number is within the range of 1 to 100 (inclusive).\n",
    "\n",
    "num = int(input(\"Enter any number: \"))\n",
    "if num>=1 and num <= 100:\n",
    "    print(\"The entered number is within range 1 to 100\")\n",
    "else:\n",
    "    print(\"The entered number is NOT within range 1 to 100\")"
   ]
  },
  {
   "cell_type": "code",
   "execution_count": 11,
   "id": "dfa5b7a9-17c2-4e73-95f2-d2f3d9d879e0",
   "metadata": {},
   "outputs": [
    {
     "name": "stdout",
     "output_type": "stream",
     "text": [
      "1\n",
      "2\n",
      "3\n",
      "4\n",
      "5\n",
      "6\n",
      "7\n",
      "8\n",
      "9\n",
      "10\n"
     ]
    }
   ],
   "source": [
    "#1.Write a Python program to print all numbers from 1 to 10 using a for loop.\n",
    "\n",
    "for i in range(1,11):\n",
    "    print(i)"
   ]
  },
  {
   "cell_type": "code",
   "execution_count": 12,
   "id": "2f37f707-5baf-4283-adcf-a9a4dce9d137",
   "metadata": {},
   "outputs": [
    {
     "name": "stdout",
     "output_type": "stream",
     "text": [
      "2\n",
      "4\n",
      "6\n",
      "8\n",
      "10\n",
      "12\n",
      "14\n",
      "16\n",
      "18\n",
      "20\n",
      "22\n",
      "24\n",
      "26\n",
      "28\n",
      "30\n",
      "32\n",
      "34\n",
      "36\n",
      "38\n",
      "40\n",
      "42\n",
      "44\n",
      "46\n",
      "48\n"
     ]
    }
   ],
   "source": [
    "#2.Write a program that prints all even numbers between 1 and 50\n",
    "\n",
    "for i in range(2,50,2):\n",
    "    print(i)"
   ]
  },
  {
   "cell_type": "code",
   "execution_count": 13,
   "id": "aebf517a-736e-423f-9b44-82cd7215998c",
   "metadata": {},
   "outputs": [
    {
     "name": "stdin",
     "output_type": "stream",
     "text": [
      "Enter any number :  5\n"
     ]
    },
    {
     "name": "stdout",
     "output_type": "stream",
     "text": [
      "120\n"
     ]
    }
   ],
   "source": [
    "#3.Create a program to calculate the factorial of a number using a for loop.\n",
    "\n",
    "num = int(input(\"Enter any number : \"))\n",
    "mul =  1\n",
    "for i in range(1,num+1):\n",
    "    mul = mul*i\n",
    "print(mul)"
   ]
  },
  {
   "cell_type": "code",
   "execution_count": 14,
   "id": "c31e45c1-ddff-4e9c-a5df-7013ef975862",
   "metadata": {},
   "outputs": [
    {
     "name": "stdin",
     "output_type": "stream",
     "text": [
      "Enter any number:  9\n"
     ]
    },
    {
     "name": "stdout",
     "output_type": "stream",
     "text": [
      "9 x 1 = 9\n",
      "9 x 2 = 18\n",
      "9 x 3 = 27\n",
      "9 x 4 = 36\n",
      "9 x 5 = 45\n",
      "9 x 6 = 54\n",
      "9 x 7 = 63\n",
      "9 x 8 = 72\n",
      "9 x 9 = 81\n",
      "9 x 10 = 90\n"
     ]
    }
   ],
   "source": [
    "#4.Write a program that prints the multiplication table for a number using a for loop.\n",
    "\n",
    "num = int(input(\"Enter any number: \"))\n",
    "for i in range(1,11):\n",
    "    #print(num,\"x\",i,\"=\",num*i)\n",
    "    print(f\"{num} x {i} = {num*i}\")"
   ]
  },
  {
   "cell_type": "code",
   "execution_count": 15,
   "id": "e38eff0f-b0cf-4af5-95a0-8f651bd6d0f2",
   "metadata": {},
   "outputs": [
    {
     "name": "stdout",
     "output_type": "stream",
     "text": [
      "15\n"
     ]
    }
   ],
   "source": [
    "#5.Write a Python program to sum all the elements in a list using a for loop.\n",
    "\n",
    "list1 = [1,2,3,4,5]\n",
    "sum = 0\n",
    "for i in list1:\n",
    "    sum = sum + i\n",
    "print(sum)"
   ]
  },
  {
   "cell_type": "code",
   "execution_count": 16,
   "id": "29a803d7-5d56-4408-bb3a-de61407e32e0",
   "metadata": {},
   "outputs": [
    {
     "name": "stdout",
     "output_type": "stream",
     "text": [
      "0\n",
      "1\n",
      "1\n",
      "2\n",
      "3\n",
      "5\n",
      "8\n",
      "13\n",
      "21\n",
      "34\n"
     ]
    }
   ],
   "source": [
    "#6.Create a program that prints the first 10 Fibonacci numbers using a for loop.\n",
    "\n",
    "a = 0\n",
    "b = 1\n",
    "for i in range(10):\n",
    "    print(a)\n",
    "    c = a + b\n",
    "    a = b\n",
    "    b = c"
   ]
  },
  {
   "cell_type": "code",
   "execution_count": 17,
   "id": "4b228b96-154d-4189-b4d0-b768619e0607",
   "metadata": {},
   "outputs": [
    {
     "name": "stdin",
     "output_type": "stream",
     "text": [
      "Enter any integer number :  5\n"
     ]
    },
    {
     "name": "stdout",
     "output_type": "stream",
     "text": [
      "* \n",
      "* * \n",
      "* * * \n",
      "* * * * \n",
      "* * * * * \n"
     ]
    }
   ],
   "source": [
    "#7.Write a Python program that prints a right-angled triangle pattern of stars.\n",
    "\n",
    "n = int(input(\"Enter any integer number : \"))\n",
    "for i in range(n):\n",
    "    for j in range(0,i+1):\n",
    "        print(\"*\", end=\" \")\n",
    "    print()\n",
    "    "
   ]
  },
  {
   "cell_type": "code",
   "execution_count": 18,
   "id": "8c728dc3-b647-485f-9f19-dc03781cad0a",
   "metadata": {},
   "outputs": [
    {
     "name": "stdin",
     "output_type": "stream",
     "text": [
      "Enter any number :  10\n"
     ]
    },
    {
     "name": "stdout",
     "output_type": "stream",
     "text": [
      "385\n"
     ]
    }
   ],
   "source": [
    "#8.Write a program to find the sum of squares of all numbers from 1 to n (where n is given by the user).\n",
    "\n",
    "n = int(input(\"Enter any number : \"))\n",
    "sum = 0\n",
    "for i in range(1,n+1):\n",
    "    sum = sum +  i**2\n",
    "print(sum)"
   ]
  },
  {
   "cell_type": "code",
   "execution_count": 19,
   "id": "2c2ea4cc-d9bf-4cdc-bda7-f939db7d87ec",
   "metadata": {},
   "outputs": [
    {
     "name": "stdin",
     "output_type": "stream",
     "text": [
      "Enter any string:  hello world\n"
     ]
    },
    {
     "name": "stdout",
     "output_type": "stream",
     "text": [
      "3\n"
     ]
    }
   ],
   "source": [
    "#9.Create a program to count the number of vowels in a string using a for loop.\n",
    "\n",
    "s = input(\"Enter any string: \")\n",
    "vowels = 0\n",
    "for i in s:\n",
    "    if i=='a' or i=='e' or i=='i'or i=='o'or i=='u':\n",
    "        vowels = vowels + 1\n",
    "print(vowels)"
   ]
  },
  {
   "cell_type": "code",
   "execution_count": 20,
   "id": "89f06b0f-30a7-4ee9-a9d8-2f588564e56b",
   "metadata": {},
   "outputs": [
    {
     "name": "stdout",
     "output_type": "stream",
     "text": [
      "[5, 4, 3, 2, 1]\n"
     ]
    }
   ],
   "source": [
    "#10.Write a Python program that reverses a list using a for loop.\n",
    "\n",
    "list1 = [1,2,3,4,5]\n",
    "list1.reverse()\n",
    "print(list1)"
   ]
  },
  {
   "cell_type": "code",
   "execution_count": 21,
   "id": "03eaee3a-13a1-4940-a7dc-81d03efd6d86",
   "metadata": {},
   "outputs": [
    {
     "name": "stdout",
     "output_type": "stream",
     "text": [
      "1\n",
      "2\n",
      "3\n",
      "4\n",
      "5\n",
      "6\n",
      "7\n",
      "8\n",
      "9\n",
      "10\n"
     ]
    }
   ],
   "source": [
    "#1.Write a program that prints numbers from 1 to 10 using a while loop.\n",
    "\n",
    "n = 1\n",
    "while(n <= 10):\n",
    "    print(n)\n",
    "    n = n+1"
   ]
  },
  {
   "cell_type": "code",
   "execution_count": 23,
   "id": "d064585e-1e36-42c3-83b1-dc1a7c96ab89",
   "metadata": {},
   "outputs": [
    {
     "name": "stdin",
     "output_type": "stream",
     "text": [
      "Enter any number :  5\n"
     ]
    },
    {
     "name": "stdout",
     "output_type": "stream",
     "text": [
      "120\n"
     ]
    }
   ],
   "source": [
    "#2.Create a program that finds the factorial of a number using a while loop.\n",
    "\n",
    "n = int(input(\"Enter any number : \"))\n",
    "i = 1\n",
    "fact = 1\n",
    "while (i<=n):\n",
    "    fact = fact * i\n",
    "    i = i + 1\n",
    "print(fact)"
   ]
  },
  {
   "cell_type": "code",
   "execution_count": 40,
   "id": "640714fd-4eda-4be5-8333-a04351ac47ee",
   "metadata": {},
   "outputs": [
    {
     "name": "stdin",
     "output_type": "stream",
     "text": [
      "Enter any number :  10\n"
     ]
    },
    {
     "name": "stdout",
     "output_type": "stream",
     "text": [
      "0\n",
      "1\n",
      "1\n",
      "2\n",
      "3\n",
      "5\n",
      "8\n",
      "13\n",
      "21\n",
      "34\n"
     ]
    }
   ],
   "source": [
    "#3.Write a program that prints a series of Fibonacci numbers up to a given number using a while loop.\n",
    "\n",
    "num = int(input(\"Enter any number : \"))\n",
    "a,b,fib,i = 0,1,1,1\n",
    "while i <= num:\n",
    "    print(a)\n",
    "    fib = a + b\n",
    "    a = b\n",
    "    b = fib\n",
    "  \n",
    "    i = i+1"
   ]
  },
  {
   "cell_type": "code",
   "execution_count": 2,
   "id": "97a2c0b2-f95b-40d2-8c69-ad108c4db1db",
   "metadata": {},
   "outputs": [
    {
     "name": "stdin",
     "output_type": "stream",
     "text": [
      "Enter any number :  5\n",
      "Enter any number :  5\n",
      "Enter any number :  5\n",
      "Enter any number :  5\n",
      "Enter any number :  5\n",
      "Enter any number :  3\n"
     ]
    },
    {
     "name": "stdout",
     "output_type": "stream",
     "text": [
      "5\n"
     ]
    }
   ],
   "source": [
    "#4.Write a program that counts how many times the user enters the number 5 using a while loop.\n",
    "\n",
    "count = 0\n",
    "while True:\n",
    "    num = int(input(\"Enter any number : \"))\n",
    "    if num != 5:\n",
    "        break\n",
    "    else:\n",
    "        count = count+1\n",
    "print(count)"
   ]
  },
  {
   "cell_type": "code",
   "execution_count": 8,
   "id": "19dfd07d-01f9-409e-affe-27ff63b75a8d",
   "metadata": {},
   "outputs": [
    {
     "name": "stdin",
     "output_type": "stream",
     "text": [
      "Enter any integer :  2\n",
      "Enter any integer :  3\n",
      "Enter any integer :  4\n",
      "Enter any integer :  5\n",
      "Enter any integer :  6\n",
      "Enter any integer :  7\n",
      "Enter any integer :  -2\n"
     ]
    },
    {
     "name": "stdout",
     "output_type": "stream",
     "text": [
      "Sum = 27\n"
     ]
    }
   ],
   "source": [
    "#5.Create a program that sums all positive numbers until the user enters a negative number.\n",
    "\n",
    "sum =  0\n",
    "while True:\n",
    "    num = int(input(\"Enter any integer : \"))\n",
    "    if num < 0:\n",
    "        print(f\"Sum = {sum}\")\n",
    "        break\n",
    "    else:\n",
    "        sum = sum + num"
   ]
  },
  {
   "cell_type": "code",
   "execution_count": 13,
   "id": "aecbb9e1-a5f5-4ff6-bda8-f7d6078a2d0a",
   "metadata": {},
   "outputs": [
    {
     "name": "stdin",
     "output_type": "stream",
     "text": [
      "Enter any number :  234\n"
     ]
    },
    {
     "name": "stdout",
     "output_type": "stream",
     "text": [
      "3\n"
     ]
    }
   ],
   "source": [
    "#6.Write a Python program that counts the number of digits in a given number using a while loop.\n",
    "\n",
    "count = 0\n",
    "num = int(input(\"Enter any number : \"))\n",
    "while num != 0:\n",
    "    count = count+1\n",
    "    num = num // 10\n",
    "print(count)"
   ]
  },
  {
   "cell_type": "code",
   "execution_count": 14,
   "id": "d3d29f41-b877-4b19-844f-6dc0a7215e80",
   "metadata": {},
   "outputs": [
    {
     "name": "stdout",
     "output_type": "stream",
     "text": [
      "100\n",
      "99\n",
      "98\n",
      "97\n",
      "96\n",
      "95\n",
      "94\n",
      "93\n",
      "92\n",
      "91\n",
      "90\n",
      "89\n",
      "88\n",
      "87\n",
      "86\n",
      "85\n",
      "84\n",
      "83\n",
      "82\n",
      "81\n",
      "80\n",
      "79\n",
      "78\n",
      "77\n",
      "76\n",
      "75\n",
      "74\n",
      "73\n",
      "72\n",
      "71\n",
      "70\n",
      "69\n",
      "68\n",
      "67\n",
      "66\n",
      "65\n",
      "64\n",
      "63\n",
      "62\n",
      "61\n",
      "60\n",
      "59\n",
      "58\n",
      "57\n",
      "56\n",
      "55\n",
      "54\n",
      "53\n",
      "52\n",
      "51\n",
      "50\n",
      "49\n",
      "48\n",
      "47\n",
      "46\n",
      "45\n",
      "44\n",
      "43\n",
      "42\n",
      "41\n",
      "40\n",
      "39\n",
      "38\n",
      "37\n",
      "36\n",
      "35\n",
      "34\n",
      "33\n",
      "32\n",
      "31\n",
      "30\n",
      "29\n",
      "28\n",
      "27\n",
      "26\n",
      "25\n",
      "24\n",
      "23\n",
      "22\n",
      "21\n",
      "20\n",
      "19\n",
      "18\n",
      "17\n",
      "16\n",
      "15\n",
      "14\n",
      "13\n",
      "12\n",
      "11\n",
      "10\n",
      "9\n",
      "8\n",
      "7\n",
      "6\n",
      "5\n",
      "4\n",
      "3\n",
      "2\n",
      "1\n"
     ]
    }
   ],
   "source": [
    "#7.Write a program to print numbers from 100 to 1 in reverse order using a while loop.\n",
    "\n",
    "i = 100\n",
    "while i >= 1:\n",
    "    print(i)\n",
    "    i = i - 1"
   ]
  },
  {
   "cell_type": "code",
   "execution_count": 15,
   "id": "bb1160dd-0a0b-4694-bd20-d271b1ed1a59",
   "metadata": {},
   "outputs": [
    {
     "name": "stdout",
     "output_type": "stream",
     "text": [
      "1\n",
      "3\n",
      "5\n",
      "7\n",
      "9\n",
      "11\n",
      "13\n",
      "15\n",
      "17\n",
      "19\n",
      "21\n",
      "23\n",
      "25\n",
      "27\n",
      "29\n",
      "31\n",
      "33\n",
      "35\n",
      "37\n",
      "39\n",
      "41\n",
      "43\n",
      "45\n",
      "47\n",
      "49\n",
      "51\n",
      "53\n",
      "55\n",
      "57\n",
      "59\n",
      "61\n",
      "63\n",
      "65\n",
      "67\n",
      "69\n",
      "71\n",
      "73\n",
      "75\n",
      "77\n",
      "79\n",
      "81\n",
      "83\n",
      "85\n",
      "87\n",
      "89\n",
      "91\n",
      "93\n",
      "95\n",
      "97\n",
      "99\n"
     ]
    }
   ],
   "source": [
    "#8.Create a program to print all odd numbers between 1 and 100 using a while loop.\n",
    "\n",
    "i = 1\n",
    "while i <= 100:\n",
    "    print(i)\n",
    "    i = i+2"
   ]
  },
  {
   "cell_type": "code",
   "execution_count": 16,
   "id": "39e59709-cbfc-43a4-8595-1077d96aacff",
   "metadata": {},
   "outputs": [
    {
     "name": "stdin",
     "output_type": "stream",
     "text": [
      "Enter any input or enter 'exit' for exit :  h\n",
      "Enter any input or enter 'exit' for exit :  hello\n",
      "Enter any input or enter 'exit' for exit :  hj\n",
      "Enter any input or enter 'exit' for exit :  ko\n",
      "Enter any input or enter 'exit' for exit :  exit\n"
     ]
    }
   ],
   "source": [
    "#9.Write a program that continuously asks for user input until the user types \"exit\".\n",
    "\n",
    "while True:\n",
    "    s =  input(\"Enter any input or enter 'exit' for exit : \")\n",
    "    if s==\"exit\":\n",
    "        break"
   ]
  },
  {
   "cell_type": "code",
   "execution_count": 1,
   "id": "7ac6882c-d0cd-4a54-b8bc-97dd97928b2c",
   "metadata": {},
   "outputs": [
    {
     "name": "stdin",
     "output_type": "stream",
     "text": [
      "Enter any number :  5\n"
     ]
    },
    {
     "name": "stdout",
     "output_type": "stream",
     "text": [
      "15\n"
     ]
    }
   ],
   "source": [
    "#10.Write a program that prints the sum of numbers from 1 to n, where n is provided by the user.\n",
    "\n",
    "n = int(input(\"Enter any number : \"))\n",
    "sum = 0\n",
    "i = 1\n",
    "while i <= n:\n",
    "    sum = sum + i\n",
    "    i=i+1\n",
    "print(sum)"
   ]
  }
 ],
 "metadata": {
  "kernelspec": {
   "display_name": "Python 3 (ipykernel)",
   "language": "python",
   "name": "python3"
  },
  "language_info": {
   "codemirror_mode": {
    "name": "ipython",
    "version": 3
   },
   "file_extension": ".py",
   "mimetype": "text/x-python",
   "name": "python",
   "nbconvert_exporter": "python",
   "pygments_lexer": "ipython3",
   "version": "3.12.7"
  }
 },
 "nbformat": 4,
 "nbformat_minor": 5
}
