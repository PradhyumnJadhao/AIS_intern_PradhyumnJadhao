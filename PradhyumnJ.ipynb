{
 "cells": [
  {
   "cell_type": "code",
   "execution_count": 1,
   "metadata": {},
   "outputs": [
    {
     "name": "stdout",
     "output_type": "stream",
     "text": [
      "10\n",
      "<class 'decimal.Decimal'>\n"
     ]
    }
   ],
   "source": [
    "import decimal\n",
    "integer = 10\n",
    "print(decimal.Decimal(integer))\n",
    "print(type(decimal.Decimal(integer)))"
   ]
  },
  {
   "cell_type": "code",
   "execution_count": 2,
   "metadata": {},
   "outputs": [
    {
     "name": "stdout",
     "output_type": "stream",
     "text": [
      "12345\n",
      "<class 'decimal.Decimal'>\n"
     ]
    }
   ],
   "source": [
    "import decimal\n",
    "string = '12345'\n",
    "print(decimal.Decimal(string))\n",
    "print(type(decimal.Decimal(string)))"
   ]
  },
  {
   "cell_type": "code",
   "execution_count": 3,
   "metadata": {},
   "outputs": [
    {
     "name": "stdout",
     "output_type": "stream",
     "text": [
      "gnimmargorP nohtyP\n"
     ]
    }
   ],
   "source": [
    "string = \"Python Programming\"\n",
    "print(string[::-1])"
   ]
  },
  {
   "cell_type": "code",
   "execution_count": 4,
   "metadata": {},
   "outputs": [
    {
     "name": "stdout",
     "output_type": "stream",
     "text": [
      "3\n"
     ]
    }
   ],
   "source": [
    "vowel = ['a','e','i','o','u']\n",
    "word = \"programming\"\n",
    "count = 0\n",
    "for character in word:\n",
    "    if character in vowel:\n",
    "        count += 1\n",
    "print(count)"
   ]
  },
  {
   "cell_type": "code",
   "execution_count": 5,
   "metadata": {},
   "outputs": [
    {
     "name": "stdout",
     "output_type": "stream",
     "text": [
      "8\n"
     ]
    }
   ],
   "source": [
    "vowel = ['a','e','i','o','u']\n",
    "word = \"programming\"\n",
    "count = 0\n",
    "for character in word:\n",
    "    if character not in vowel:\n",
    "        count += 1\n",
    "print(count)"
   ]
  },
  {
   "cell_type": "code",
   "execution_count": 6,
   "metadata": {},
   "outputs": [
    {
     "name": "stdout",
     "output_type": "stream",
     "text": [
      "2\n"
     ]
    }
   ],
   "source": [
    "word = \"programming\"\n",
    "chracter = 'g'\n",
    "count = 0\n",
    "for i in word:\n",
    "    if i == character:\n",
    "        count += 1\n",
    "print(count)"
   ]
  },
  {
   "cell_type": "code",
   "execution_count": 7,
   "metadata": {},
   "outputs": [
    {
     "name": "stdout",
     "output_type": "stream",
     "text": [
      "0,1,1,2,3,5,8\n"
     ]
    }
   ],
   "source": [
    "fib = [0,1]\n",
    "n = 5\n",
    "for i in range(n):\n",
    "    fib.append(fib[-1] + fib[-2])\n",
    "print(','.join(str(e) for e in fib))"
   ]
  },
  {
   "cell_type": "code",
   "execution_count": 8,
   "metadata": {},
   "outputs": [
    {
     "name": "stdout",
     "output_type": "stream",
     "text": [
      "78\n"
     ]
    }
   ],
   "source": [
    "numberlist = [12,3,55,23,6,78,33,4]\n",
    "max = numberlist[0]\n",
    "for num in numberlist:\n",
    "    if max < num:\n",
    "        max = num\n",
    "print(max)"
   ]
  },
  {
   "cell_type": "code",
   "execution_count": 9,
   "metadata": {},
   "outputs": [
    {
     "name": "stdout",
     "output_type": "stream",
     "text": [
      "3\n"
     ]
    }
   ],
   "source": [
    "numberlist = [12,3,55,23,6,78,33,4]\n",
    "min = numberlist[0]\n",
    "for num in numberlist:\n",
    "    if min > num:\n",
    "        min = num\n",
    "print(min)"
   ]
  },
  {
   "cell_type": "code",
   "execution_count": 10,
   "metadata": {},
   "outputs": [
    {
     "name": "stdout",
     "output_type": "stream",
     "text": [
      "6\n"
     ]
    }
   ],
   "source": [
    "numberlist = [12,3,55,23,6,78,33,4]\n",
    "midElement = int((len(numberlist)/2))\n",
    "print(numberlist[midElement])"
   ]
  },
  {
   "cell_type": "code",
   "execution_count": 11,
   "metadata": {},
   "outputs": [
    {
     "name": "stdout",
     "output_type": "stream",
     "text": [
      "PYTHON\n",
      "<class 'str'>\n"
     ]
    }
   ],
   "source": [
    "list = [\"P\",\"Y\",\"T\",\"H\",\"O\",\"N\"]\n",
    "string = \"\".join(list)\n",
    "\n",
    "print(string)\n",
    "print(type(string))"
   ]
  },
  {
   "cell_type": "code",
   "execution_count": 12,
   "metadata": {},
   "outputs": [
    {
     "name": "stdout",
     "output_type": "stream",
     "text": [
      "[5, 7, 9]\n"
     ]
    }
   ],
   "source": [
    "lst1 = [1,2,3]\n",
    "lst2 = [4,5,6]\n",
    "lst3 = [] \n",
    "\n",
    "for i in range(0,len(lst1)):\n",
    "    lst3.append(lst1[i] + lst2[i])\n",
    "print(lst3)"
   ]
  },
  {
   "cell_type": "code",
   "execution_count": 13,
   "metadata": {},
   "outputs": [
    {
     "name": "stdout",
     "output_type": "stream",
     "text": [
      "True\n"
     ]
    }
   ],
   "source": [
    "str1 = \"Listen\"\n",
    "str2 = \"Silent\"\n",
    "\n",
    "str1 = str1.replace(\" \",\"\").upper()\n",
    "str2 = str2.replace(\" \",\"\").upper()\n",
    "\n",
    "if sorted(str1) == sorted(str2):\n",
    "    print(\"True\")\n",
    "else:\n",
    "    print(\"False\")"
   ]
  },
  {
   "cell_type": "code",
   "execution_count": 14,
   "metadata": {},
   "outputs": [
    {
     "name": "stdout",
     "output_type": "stream",
     "text": [
      "True\n"
     ]
    }
   ],
   "source": [
    "str1 = \"Kayak\".lower()\n",
    "if str1 == str1[::-1]:\n",
    "    print(\"True\")\n",
    "else:\n",
    "    print(\"False\")"
   ]
  },
  {
   "cell_type": "code",
   "execution_count": 15,
   "metadata": {},
   "outputs": [
    {
     "name": "stdout",
     "output_type": "stream",
     "text": [
      "4\n"
     ]
    }
   ],
   "source": [
    "string = \"P r ogram in g\"\n",
    "print(string.count(\" \"))"
   ]
  },
  {
   "cell_type": "code",
   "execution_count": 16,
   "metadata": {},
   "outputs": [
    {
     "name": "stdout",
     "output_type": "stream",
     "text": [
      "4\n"
     ]
    }
   ],
   "source": [
    "string = \"P r ogram in g\"\n",
    "count = 0\n",
    "for i in string:\n",
    "    if i == \" \":\n",
    "        count+=1\n",
    "print(count)"
   ]
  },
  {
   "cell_type": "code",
   "execution_count": 17,
   "metadata": {},
   "outputs": [
    {
     "name": "stderr",
     "output_type": "stream",
     "text": [
      "<unknown>:5: SyntaxWarning: invalid escape sequence '\\s'\n",
      "<>:5: SyntaxWarning: invalid escape sequence '\\s'\n",
      "<>:5: SyntaxWarning: invalid escape sequence '\\s'\n",
      "<ipython-input-17-4491c2a7481b>:5: SyntaxWarning: invalid escape sequence '\\s'\n",
      "  spacecount = re.findall(\"[ \\s]\",name)\n"
     ]
    },
    {
     "name": "stdout",
     "output_type": "stream",
     "text": [
      "1\n",
      "8\n",
      "2\n"
     ]
    }
   ],
   "source": [
    "import re\n",
    "name = 'Python is 1'\n",
    "digitcount = re.sub(\"[^0-9]\", \"\",name)\n",
    "lettercount = re.sub(\"[^a-zA-Z]\", \"\",name)\n",
    "spacecount = re.findall(\"[ \\s]\",name)\n",
    "\n",
    "print(len(digitcount))\n",
    "print(len(lettercount))\n",
    "print(len(spacecount))"
   ]
  },
  {
   "cell_type": "code",
   "execution_count": 18,
   "metadata": {},
   "outputs": [
    {
     "name": "stderr",
     "output_type": "stream",
     "text": [
      "<unknown>:2: SyntaxWarning: invalid escape sequence '\\['\n",
      "<>:2: SyntaxWarning: invalid escape sequence '\\['\n",
      "<>:2: SyntaxWarning: invalid escape sequence '\\['\n",
      "<ipython-input-18-928f2d9c09d6>:2: SyntaxWarning: invalid escape sequence '\\['\n",
      "  sp_char = \"!@#$%^&*()<>?/\\[]{};:~`\"\n"
     ]
    },
    {
     "name": "stdout",
     "output_type": "stream",
     "text": [
      "4\n"
     ]
    }
   ],
   "source": [
    "def count_sp_char(string):\n",
    "    sp_char = \"!@#$%^&*()<>?/\\[]{};:~`\"\n",
    "    count = 0\n",
    "    for i in string:\n",
    "        if i in sp_char:\n",
    "            count+=1\n",
    "    return count\n",
    "    \n",
    "text = 'Hello! How are you? #specialchars! 123'\n",
    "result = count_sp_char(text)\n",
    "print(result)"
   ]
  },
  {
   "cell_type": "code",
   "execution_count": 19,
   "metadata": {},
   "outputs": [
    {
     "name": "stdout",
     "output_type": "stream",
     "text": [
      "CODE\n"
     ]
    }
   ],
   "source": [
    "import re\n",
    "string = \"C O D E\"\n",
    "spaces = re.compile(r'\\s+')\n",
    "result = re.sub(spaces, \"\", string)\n",
    "print(result)"
   ]
  },
  {
   "cell_type": "code",
   "execution_count": 20,
   "metadata": {},
   "outputs": [
    {
     "name": "stdout",
     "output_type": "stream",
     "text": [
      "CODE\n"
     ]
    }
   ],
   "source": [
    "import re\n",
    "string = \"C O D E\"\n",
    "result = string.replace(\" \",\"\")\n",
    "print(result)"
   ]
  },
  {
   "cell_type": "code",
   "execution_count": 21,
   "metadata": {},
   "outputs": [
    {
     "name": "stdout",
     "output_type": "stream",
     "text": [
      "CODE\n"
     ]
    }
   ],
   "source": [
    "string = \"C O D E\"\n",
    "string2 = \"\".join(char for char in string if char != \" \")\n",
    "print(string2)"
   ]
  },
  {
   "cell_type": "code",
   "execution_count": 22,
   "metadata": {},
   "outputs": [
    {
     "name": "stdout",
     "output_type": "stream",
     "text": [
      "     *\n",
      "    ***\n",
      "   *****\n",
      "  *******\n",
      " *********\n",
      "    *\n",
      "   ***\n",
      "  *****\n",
      " *******\n",
      "*********\n",
      " *******\n",
      "  *****\n",
      "   ***\n",
      "    *\n"
     ]
    }
   ],
   "source": [
    "def pyramid(n):\n",
    "        for i in range(n):\n",
    "            for j in range(i,n):\n",
    "                print(\" \",end=\"\")\n",
    "            for j in range(i+1):\n",
    "                print(\"*\",end=\"\")\n",
    "            for j in range(i):\n",
    "                print(\"*\",end=\"\")\n",
    "            print(\"\")\n",
    "\n",
    "\n",
    "pyramid(5)\n",
    "\n",
    "num = 9\n",
    "cnt = num//2\n",
    "scnt = 1\n",
    "for i in range(cnt+1):\n",
    "    print(cnt*\" \"+\"*\"*scnt)\n",
    "    cnt = cnt-1\n",
    "    scnt = scnt+2\n",
    "scnt =num-2\n",
    "cnt = 1\n",
    "for i in range(num//2):\n",
    "    print(cnt*\" \"+\"*\"*scnt)\n",
    "    scnt=scnt-2\n",
    "    cnt=cnt+1"
   ]
  },
  {
   "cell_type": "code",
   "execution_count": 23,
   "metadata": {},
   "outputs": [
    {
     "name": "stdout",
     "output_type": "stream",
     "text": [
      "['Easy', 'is', 'Python']\n"
     ]
    }
   ],
   "source": [
    "from random import shuffle\n",
    "list = ['Python','is','Easy']\n",
    "shuffle(list)\n",
    "print(list)"
   ]
  },
  {
   "cell_type": "code",
   "execution_count": 24,
   "metadata": {},
   "outputs": [
    {
     "name": "stdout",
     "output_type": "stream",
     "text": [
      "2 3 5 7 11 13 17 19 23 29 "
     ]
    }
   ],
   "source": [
    "def isprime(num):\n",
    "    for i in range(2,num):\n",
    "        if num%i == 0:\n",
    "            return False\n",
    "    return True\n",
    "\n",
    "def prime_generator(n):\n",
    "    num = 2\n",
    "    while n:\n",
    "        if isprime(num):\n",
    "            yield num\n",
    "            n-=1\n",
    "        num+=1\n",
    "\n",
    "\n",
    "x = 10\n",
    "it = prime_generator(x)\n",
    "for e in it:\n",
    "    print(e, end=\" \")"
   ]
  },
  {
   "cell_type": "code",
   "execution_count": 25,
   "metadata": {},
   "outputs": [
    {
     "data": {
      "text/plain": [
       "True"
      ]
     },
     "execution_count": 25,
     "metadata": {},
     "output_type": "execute_result"
    }
   ],
   "source": [
    "def prime_no(n):\n",
    "    Flag = False\n",
    "    if n < 2:\n",
    "        return Flag\n",
    "    else:\n",
    "        for i in range(2,n):\n",
    "            if n%i==0:\n",
    "                return Flag\n",
    "            else:\n",
    "                Flag = True\n",
    "                return Flag\n",
    "num = 37\n",
    "prime_no(num)"
   ]
  },
  {
   "cell_type": "code",
   "execution_count": 26,
   "metadata": {},
   "outputs": [
    {
     "data": {
      "text/plain": [
       "False"
      ]
     },
     "execution_count": 26,
     "metadata": {},
     "output_type": "execute_result"
    }
   ],
   "source": [
    "def prime_no(n):\n",
    "    Flag = False\n",
    "    if n < 2:\n",
    "        return Flag\n",
    "    else:\n",
    "        for i in range(2,n):\n",
    "            if n%i==0:\n",
    "                return Flag\n",
    "        Flag = True\n",
    "        return Flag\n",
    "num = 25\n",
    "prime_no(num)"
   ]
  },
  {
   "cell_type": "code",
   "execution_count": 27,
   "metadata": {},
   "outputs": [
    {
     "name": "stdout",
     "output_type": "stream",
     "text": [
      "Average is: 38.0\n",
      "Average is: 27.5\n"
     ]
    }
   ],
   "source": [
    "def average(*t):\n",
    "    avg =  sum(t)/len(t)\n",
    "    return avg\n",
    "result1 = average(32,5,65,22,87,34,2,57)\n",
    "result2 = average(5,10,15,20,25,30,35,40,45,50)\n",
    "\n",
    "print(\"Average is:\",result1)\n",
    "print(\"Average is:\",result2)"
   ]
  },
  {
   "cell_type": "code",
   "execution_count": null,
   "metadata": {},
   "outputs": [],
   "source": [
    "def average_with_kwargs(**kwargs):\n",
    "    values = list(kwargs.values())\n",
    "    avg = sum(values)/len(values)\n",
    "    return avg\n",
    "\n",
    "result1 = average_with_kwargs(num1=32, num2=5, num3=65,num4=22,num5=87,num6=34,num7=2,num8=57)\n",
    "result2 = average_with_kwargs(value1=5, value2=10, value3=15, value4=20,value5=25,value6=30,value7=35,value8=40,value9=45,value0=50)\n",
    "\n",
    "print(f'Average is: {result1:.2f}')\n",
    "print(f'Average is: {result2:.2f}')"
   ]
  },
  {
   "cell_type": "code",
   "execution_count": 29,
   "metadata": {},
   "outputs": [
    {
     "name": "stdout",
     "output_type": "stream",
     "text": [
      "{'a': 5, 'b': 10, 'c': 15}\n",
      "{'a': 5}\n"
     ]
    }
   ],
   "source": [
    "class Test:\n",
    "    def __init__(self):\n",
    "        self.a=5\n",
    "    def f1(self):\n",
    "        self.b=10\n",
    "t1 = Test()\n",
    "t2 = Test()\n",
    "t1.f1()\n",
    "t1.c=15\n",
    "print(t1.__dict__)\n",
    "print(t2.__dict__)"
   ]
  },
  {
   "cell_type": "code",
   "execution_count": 30,
   "metadata": {},
   "outputs": [
    {
     "name": "stdout",
     "output_type": "stream",
     "text": [
      "10\n",
      "10\n"
     ]
    }
   ],
   "source": [
    "f = lambda a,b : a+b\n",
    "r = f(3,7)\n",
    "print(r)\n",
    "print((lambda a,b:a+b)(3,7))"
   ]
  },
  {
   "cell_type": "code",
   "execution_count": 31,
   "metadata": {},
   "outputs": [
    {
     "data": {
      "text/plain": [
       "120"
      ]
     },
     "execution_count": 31,
     "metadata": {},
     "output_type": "execute_result"
    }
   ],
   "source": [
    "f = lambda n: 1 if n==0 else n*f(n-1)\n",
    "f(5)"
   ]
  },
  {
   "cell_type": "code",
   "execution_count": 32,
   "metadata": {},
   "outputs": [
    {
     "name": "stdout",
     "output_type": "stream",
     "text": [
      "The factorial of 3 is 6\n"
     ]
    }
   ],
   "source": [
    "num = 3\n",
    "factorial = 1\n",
    "if num < 0:\n",
    "    print(\"Sorry, factorial does noot exist for negative nummber\")\n",
    "elif num == 0:\n",
    "    print(\"The factorial of 0 is 1\")\n",
    "else:\n",
    "    for i in range(1,num+1):\n",
    "        factorial = factorial*i\n",
    "    print(f\"The factorial of {num} is\",factorial)"
   ]
  },
  {
   "cell_type": "code",
   "execution_count": 33,
   "metadata": {},
   "outputs": [
    {
     "name": "stdout",
     "output_type": "stream",
     "text": [
      "[2, 4, 6, 8, 10, 12, 14, 16, 18]\n",
      "[56, 22, 62, 32, 76]\n"
     ]
    }
   ],
   "source": [
    "l1 = [2*e for e in range(1,10)]\n",
    "print(l1)\n",
    "\n",
    "list = [23,56,65,22,62,32,65,76,33,99]\n",
    "l2 = [e for e in list if e%2 == 0]\n",
    "print(l2)"
   ]
  },
  {
   "cell_type": "code",
   "execution_count": 34,
   "metadata": {},
   "outputs": [
    {
     "name": "stdout",
     "output_type": "stream",
     "text": [
      "['What', 'is', 'right', 'in', 'your', 'mind', 'is', 'right', 'in', 'your', 'world']\n",
      "['world', 'your', 'in', 'right', 'is', 'mind', 'your', 'in', 'right', 'is', 'What']\n",
      "world your in right is mind your in right is What\n"
     ]
    }
   ],
   "source": [
    "s = \"What is right in your mind is right in your world\"\n",
    "s1 = s.split(\" \")\n",
    "print(s1)\n",
    "s1 = s1[::-1]\n",
    "print(s1)\n",
    "print(\" \".join(s1))"
   ]
  },
  {
   "cell_type": "code",
   "execution_count": 35,
   "metadata": {},
   "outputs": [
    {
     "name": "stdout",
     "output_type": "stream",
     "text": [
      "x=15 y=10\n",
      "15\n"
     ]
    }
   ],
   "source": [
    "x = 5\n",
    "def f1():\n",
    "    global x\n",
    "    x = 15\n",
    "    y = 10\n",
    "    print(\"x=%d y=%d\"%(x,y))\n",
    "\n",
    "\n",
    "f1()\n",
    "print(x)"
   ]
  },
  {
   "cell_type": "code",
   "execution_count": 36,
   "metadata": {},
   "outputs": [
    {
     "name": "stdout",
     "output_type": "stream",
     "text": [
      "local x=10 global x=5\n"
     ]
    }
   ],
   "source": [
    "x = 5\n",
    "def func():\n",
    "    x = 10\n",
    "    d = globals()\n",
    "    print(\"local x=%d global x=%d\"%(x,d['x']))\n",
    "\n",
    "func()"
   ]
  },
  {
   "cell_type": "code",
   "execution_count": 37,
   "metadata": {},
   "outputs": [
    {
     "name": "stdout",
     "output_type": "stream",
     "text": [
      "123\n",
      "123.42\n",
      "(3+4j)\n",
      "12\n",
      "True\n",
      "0b11001\n",
      "0o31\n",
      "0x19\n",
      "65\n",
      "b\n"
     ]
    }
   ],
   "source": [
    "x = int('123')\n",
    "a = float('123.42')\n",
    "b = complex('3+4j')\n",
    "c = str(12)\n",
    "d = bool('True')\n",
    "e = bin(25)\n",
    "f = oct(25)\n",
    "g = hex(25)\n",
    "h = ord('A')\n",
    "i = chr(98)\n",
    "print(x,a,b,c,d,e,f,g,h,i,sep=\"\\n\")\n"
   ]
  },
  {
   "cell_type": "code",
   "execution_count": 38,
   "metadata": {},
   "outputs": [
    {
     "name": "stdout",
     "output_type": "stream",
     "text": [
      "<class 'int'>\n",
      "<class 'str'>\n",
      "5123\n",
      "128\n"
     ]
    }
   ],
   "source": [
    "x = 5\n",
    "print(type(x))\n",
    "s1 = '123'\n",
    "print(type(s1))\n",
    "print(str(x) + s1)\n",
    "print(x + int(s1))"
   ]
  },
  {
   "cell_type": "code",
   "execution_count": 39,
   "metadata": {},
   "outputs": [
    {
     "name": "stdout",
     "output_type": "stream",
     "text": [
      "Before hello function\n",
      "Hello !\n",
      "Thanks for using the function\n",
      "Before hello function\n",
      "4\n",
      "Thanks for using the function\n"
     ]
    }
   ],
   "source": [
    "def welcome(fx):\n",
    "    def mfx(*t,**d):\n",
    "        print(\"Before hello function\")\n",
    "        fx(*t,**d)\n",
    "        print(\"Thanks for using the function\")\n",
    "    return mfx\n",
    "\n",
    "@welcome\n",
    "def hello():\n",
    "    print(\"Hello !\")\n",
    "\n",
    "@welcome\n",
    "def add(a,b):\n",
    "    print(a+b)\n",
    "\n",
    "hello()\n",
    "add(1,3)"
   ]
  },
  {
   "cell_type": "code",
   "execution_count": 40,
   "metadata": {},
   "outputs": [
    {
     "data": {
      "text/plain": [
       "900"
      ]
     },
     "execution_count": 40,
     "metadata": {},
     "output_type": "execute_result"
    }
   ],
   "source": [
    "class Calculator:\n",
    "    def __init__(self,func):\n",
    "        self.function = func\n",
    "    def __call__(self,*t,**d):\n",
    "        result = self.function(*t,**d)\n",
    "        return result**2\n",
    "\n",
    "@Calculator\n",
    "def add(a,b):\n",
    "    return a+b\n",
    "\n",
    "add(10,20)"
   ]
  },
  {
   "cell_type": "code",
   "execution_count": 41,
   "metadata": {},
   "outputs": [
    {
     "name": "stdout",
     "output_type": "stream",
     "text": [
      "PASS\n",
      "DISTINCTION\n",
      "PASS\n",
      "DISTINCTION\n",
      "PASS\n",
      "PASS\n",
      "PASS\n",
      "DISTINCTION\n",
      "PASS\n",
      "Results: ['PASS', 'PASS', 'PASS', 'PASS', 'PASS', 'PASS']\n"
     ]
    }
   ],
   "source": [
    "def decor_result(result_function):\n",
    "    def distinction(marks):\n",
    "        results = []\n",
    "        for m in marks:\n",
    "            if m >= 75:\n",
    "                print(\"DISTINCTION\")\n",
    "            results.append(result_function([m]))\n",
    "        return results\n",
    "    return distinction\n",
    "\n",
    "@decor_result\n",
    "def result(marks):\n",
    "    for m in marks:\n",
    "        if m >= 33:\n",
    "            pass\n",
    "        else:\n",
    "            print(\"FAIL\")\n",
    "            return \"FAIL\"\n",
    "    else:\n",
    "        print(\"PASS\")\n",
    "        return \"PASS\"\n",
    "\n",
    "results = result([45,78,80,34,66,90])\n",
    "print(\"Results:\", results)"
   ]
  },
  {
   "cell_type": "code",
   "execution_count": 42,
   "metadata": {},
   "outputs": [
    {
     "name": "stdout",
     "output_type": "stream",
     "text": [
      "23\n",
      "65\n",
      "22\n",
      "76\n",
      "34\n",
      "98\n",
      "43\n"
     ]
    }
   ],
   "source": [
    "l1 = [23,65,22,76,34,98,43]\n",
    "it = iter(l1)\n",
    "while True:\n",
    "    try:\n",
    "        print(next(it))\n",
    "    except StopIteration:\n",
    "        break"
   ]
  },
  {
   "cell_type": "code",
   "execution_count": 43,
   "metadata": {},
   "outputs": [
    {
     "name": "stdout",
     "output_type": "stream",
     "text": [
      "[2, 4, 6, 8, 10, 12, 14, 16, 18, 20]\n"
     ]
    }
   ],
   "source": [
    "def evenNum(n):\n",
    "    i = 1\n",
    "    while n:\n",
    "        yield 2*i\n",
    "        i+=1\n",
    "        n-=1\n",
    "it = evenNum(10)\n",
    "even_list = []\n",
    "while True:\n",
    "    try:\n",
    "        even_list.append(next(it))\n",
    "    except StopIteration:\n",
    "        break\n",
    "\n",
    "print(even_list)"
   ]
  },
  {
   "cell_type": "code",
   "execution_count": 44,
   "metadata": {},
   "outputs": [
    {
     "name": "stdout",
     "output_type": "stream",
     "text": [
      "Hello, Ashutosh!\n",
      "Hi, Bob!\n"
     ]
    }
   ],
   "source": [
    "def greet(name, greetings = \"Hello\"):\n",
    "    return f\"{greetings}, {name}!\"\n",
    "\n",
    "print(greet(\"Ashutosh\"))\n",
    "print(greet(\"Bob\",\"Hi\"))"
   ]
  },
  {
   "cell_type": "code",
   "execution_count": 45,
   "metadata": {},
   "outputs": [
    {
     "name": "stdout",
     "output_type": "stream",
     "text": [
      "4\n",
      "15\n"
     ]
    }
   ],
   "source": [
    "def add(*t):\n",
    "    return sum(t)\n",
    "print(add(1,3))\n",
    "print(add(1,3,5,6))"
   ]
  },
  {
   "cell_type": "code",
   "execution_count": 46,
   "metadata": {},
   "outputs": [
    {
     "name": "stdout",
     "output_type": "stream",
     "text": [
      "Processing an integer: 10\n",
      "Processing a string: hello\n"
     ]
    }
   ],
   "source": [
    "from functools import singledispatch\n",
    "\n",
    "@singledispatch\n",
    "def process (value):\n",
    "    raise NotImplementedError(\"Unsupported type\")\n",
    "    \n",
    "@process.register(int)\n",
    "def _(value):\n",
    "    return f\"Processing an integer: {value}\"\n",
    "\n",
    "@process.register(str)\n",
    "def _(value):\n",
    "    return f\"Processing a string: {value}\"\n",
    "    \n",
    "print(process(10))\n",
    "print(process(\"hello\"))\n"
   ]
  },
  {
   "cell_type": "code",
   "execution_count": 47,
   "metadata": {},
   "outputs": [
    {
     "name": "stdout",
     "output_type": "stream",
     "text": [
      "6\n",
      "120\n"
     ]
    }
   ],
   "source": [
    "class Math:\n",
    "    @staticmethod\n",
    "    def multiply(a,b):\n",
    "        return a*b\n",
    "    @staticmethod\n",
    "    def multiply(a,b,c):\n",
    "        return a*b*c\n",
    "\n",
    "class Math:\n",
    "    @staticmethod\n",
    "    def multiply(*t):\n",
    "        result = 1\n",
    "        for num in t:\n",
    "            result *= num\n",
    "        return result\n",
    "        \n",
    "print(Math.multiply(2,3))\n",
    "print(Math.multiply (2,3,4,5))"
   ]
  },
  {
   "cell_type": "code",
   "execution_count": 48,
   "metadata": {},
   "outputs": [
    {
     "name": "stdout",
     "output_type": "stream",
     "text": [
      "a= 1 b= 4\n",
      "a= 14 b= 4\n",
      "a= 12 b= 4\n"
     ]
    }
   ],
   "source": [
    "def f1(a,b):\n",
    "    print(\"a=\",a,\"b=\",b)\n",
    "f1(1,4)\n",
    "f1(14,4)\n",
    "f1(12,4)"
   ]
  },
  {
   "cell_type": "code",
   "execution_count": 49,
   "metadata": {},
   "outputs": [
    {
     "name": "stdout",
     "output_type": "stream",
     "text": [
      "[32, 34, 64, 64, 78, 83, 88, 95]\n"
     ]
    },
    {
     "data": {
      "text/plain": [
       "list"
      ]
     },
     "execution_count": 49,
     "metadata": {},
     "output_type": "execute_result"
    }
   ],
   "source": [
    "t1=(34, 64, 32, 78, 88, 83, 95, 64)\n",
    "s_t1= sorted(t1)\n",
    "print(s_t1)\n",
    "type(s_t1)"
   ]
  },
  {
   "cell_type": "code",
   "execution_count": 50,
   "metadata": {},
   "outputs": [
    {
     "name": "stdout",
     "output_type": "stream",
     "text": [
      "<class 'list'>\n",
      "[32, 34, 64, 64, 78, 83, 88, 95]\n"
     ]
    }
   ],
   "source": [
    "t1=[34, 64, 32, 78, 88, 83, 95, 64]\n",
    "t1.sort()\n",
    "print(type(t1))\n",
    "print(t1)"
   ]
  },
  {
   "cell_type": "code",
   "execution_count": 51,
   "metadata": {},
   "outputs": [
    {
     "name": "stdout",
     "output_type": "stream",
     "text": [
      "1 2 3 4 5 "
     ]
    }
   ],
   "source": [
    "i=1\n",
    "while i<=10:\n",
    "    print(i,end=\" \")\n",
    "    if i==5:\n",
    "        break\n",
    "    i+=1\n",
    "else:\n",
    "    print(\"you are in else\")"
   ]
  },
  {
   "cell_type": "code",
   "execution_count": 52,
   "metadata": {},
   "outputs": [
    {
     "name": "stdout",
     "output_type": "stream",
     "text": [
      "10\n",
      "20\n"
     ]
    }
   ],
   "source": [
    "class world:\n",
    "    x=10\n",
    "    __india=20\n",
    "print(world.x)\n",
    "print(world._world__india)"
   ]
  },
  {
   "cell_type": "code",
   "execution_count": 53,
   "metadata": {},
   "outputs": [
    {
     "name": "stdout",
     "output_type": "stream",
     "text": [
      "20\n",
      "4 5\n",
      "4\n",
      "5\n"
     ]
    }
   ],
   "source": [
    "class test:\n",
    "    x=20\n",
    "    def __init__(self,a,b):\n",
    "        self.a=a\n",
    "        self.b=b \n",
    "    def show(self):\n",
    "        print(self.a,self.b)\n",
    "print(test.x)\n",
    "t1=test(4,5)\n",
    "t1.show()\n",
    "\n",
    "print(t1.a)\n",
    "print(t1.b)"
   ]
  },
  {
   "cell_type": "code",
   "execution_count": 54,
   "metadata": {},
   "outputs": [
    {
     "name": "stdout",
     "output_type": "stream",
     "text": [
      "10 20\n"
     ]
    }
   ],
   "source": [
    "class test:\n",
    "    def __init__(self):\n",
    "        self.a=10\n",
    "        self.b=20\n",
    "t1 = test ()\n",
    "print(t1.a,t1.b)"
   ]
  },
  {
   "cell_type": "code",
   "execution_count": 55,
   "metadata": {},
   "outputs": [
    {
     "name": "stdout",
     "output_type": "stream",
     "text": [
      "The addition is: 10\n"
     ]
    }
   ],
   "source": [
    "def add (a,b,c=5):\n",
    "    return a+b+c\n",
    "s= add(2,3)\n",
    "print(\"The addition is:\",s)"
   ]
  },
  {
   "cell_type": "code",
   "execution_count": 56,
   "metadata": {},
   "outputs": [
    {
     "name": "stdout",
     "output_type": "stream",
     "text": [
      "['abc', 34.56, 32, (3+4j), 'b', 55, 65.7, '90', 180]\n",
      "[32, 55, 180]\n"
     ]
    }
   ],
   "source": [
    "l1=['abc',34.56,32,3+4j,\"b\",55,65.7,'90',180]\n",
    "print(l1)\n",
    "l2=[]\n",
    "for e in l1 :\n",
    "    if type(e)==int:\n",
    "        l2.append(e)\n",
    "print(l2)"
   ]
  },
  {
   "cell_type": "code",
   "execution_count": 57,
   "metadata": {},
   "outputs": [],
   "source": [
    "class A1:\n",
    "    pass\n",
    "class A2:\n",
    "    pass\n",
    "class B(A1,A2):\n",
    "    pass"
   ]
  },
  {
   "cell_type": "code",
   "execution_count": 58,
   "metadata": {},
   "outputs": [
    {
     "name": "stdout",
     "output_type": "stream",
     "text": [
      "Before monkey packing\n",
      "\n",
      "send code to fetch data from database\n",
      "send code to fetch data from database\n",
      "\n",
      "After Monkey Patching\n",
      "\n",
      "some to code fetch data from test data\n",
      "some to code fetch data from test data\n"
     ]
    }
   ],
   "source": [
    "class Test:\n",
    "    def __init__(self,x):\n",
    "        self.a= x\n",
    "    def get_data(self):\n",
    "        print('send code to fetch data from database')\n",
    "    def f1(self):\n",
    "        self.get_data()\n",
    "    def f2(self):\n",
    "        self.get_data()\n",
    "t1=Test(4)\n",
    "print(\"Before monkey packing\\n\")\n",
    "t1.f1()\n",
    "t1.f2()\n",
    "def get_new_data(self):\n",
    "    print(\"some to code fetch data from test data\")\n",
    "Test.get_data = get_new_data\n",
    "print(\"\\nAfter Monkey Patching\\n\")\n",
    "t1.f1()\n",
    "t1.f2()"
   ]
  },
  {
   "cell_type": "code",
   "execution_count": 59,
   "metadata": {},
   "outputs": [
    {
     "name": "stdout",
     "output_type": "stream",
     "text": [
      "number is not prime\n"
     ]
    }
   ],
   "source": [
    "# num=int(input('enter number'))\n",
    "num = 10\n",
    "for i in range(2,num):\n",
    "        if num%i==0:\n",
    "            print(\"number is not prime\")\n",
    "            break\n",
    "else:\n",
    "    print('number is prime ')"
   ]
  },
  {
   "cell_type": "code",
   "execution_count": 60,
   "metadata": {},
   "outputs": [
    {
     "name": "stdout",
     "output_type": "stream",
     "text": [
      "Entered number 324 is even\n"
     ]
    }
   ],
   "source": [
    "# num =int(input(\"Enter a number:\"))\n",
    "num = 324\n",
    "if num%2==0:\n",
    "    print(f\"Entered number {num} is even\")\n",
    "else:\n",
    "    print(f\"Entered number {num} is odd\")"
   ]
  },
  {
   "cell_type": "code",
   "execution_count": 61,
   "metadata": {},
   "outputs": [
    {
     "name": "stdout",
     "output_type": "stream",
     "text": [
      "number is possitive\n"
     ]
    }
   ],
   "source": [
    "# num= float(input(\"enter the number:\"))\n",
    "num = 213\n",
    "if num>0:\n",
    "    print(\"number is possitive\")\n",
    "elif num==0:\n",
    "    print(\"number is zero\")\n",
    "else:\n",
    "    print(\"number is negative \")"
   ]
  },
  {
   "cell_type": "code",
   "execution_count": 62,
   "metadata": {},
   "outputs": [
    {
     "name": "stdout",
     "output_type": "stream",
     "text": [
      "sum= 5\n"
     ]
    }
   ],
   "source": [
    "# a=int(input(\"what is number 1:\"))\n",
    "# b=int(input(\"what is number 2:\"))\n",
    "a = 3\n",
    "b = 2\n",
    "c=a+b\n",
    "print(\"sum=\",c)"
   ]
  },
  {
   "cell_type": "code",
   "execution_count": 63,
   "metadata": {},
   "outputs": [
    {
     "data": {
      "text/plain": [
       "5"
      ]
     },
     "execution_count": 63,
     "metadata": {},
     "output_type": "execute_result"
    }
   ],
   "source": [
    "# num1=int(input(\"enter first number \"))\n",
    "# num2=int(input(\"enter second number \"))\n",
    "num1=235\n",
    "num2=875\n",
    "def gdc(a,b):\n",
    "    if a==0 or a==b:\n",
    "        return b\n",
    "    elif b==0:\n",
    "        return b\n",
    "    elif a>b:\n",
    "        return gdc(a-b,b)\n",
    "    return gdc(a,b-a)\n",
    "\n",
    "gdc(num1 ,num2 )"
   ]
  },
  {
   "cell_type": "code",
   "execution_count": 64,
   "metadata": {},
   "outputs": [
    {
     "name": "stdout",
     "output_type": "stream",
     "text": [
      "*  \n",
      "*  *  \n",
      "*  *  *  \n",
      "*  *  *  *  \n",
      "*  *  *  *  *  \n",
      "*  *  *  *  *  *  \n",
      "*  *  *  *  *  *  *  \n",
      "*  *  *  *  *  *  *  *  \n",
      "*  *  *  *  *  *  *  *  *  \n",
      "*  *  *  *  *  *  *  *  *  *  \n"
     ]
    }
   ],
   "source": [
    "# s=int(input(\"enter a number\"))\n",
    "s = 10\n",
    "for i in range(1,s+1):\n",
    "    print(\"*  \"*i)\n",
    "    i+=1"
   ]
  },
  {
   "cell_type": "code",
   "execution_count": 65,
   "metadata": {},
   "outputs": [
    {
     "name": "stdout",
     "output_type": "stream",
     "text": [
      "1 \n",
      "1 2 \n",
      "1 2 3 \n",
      "1 2 3 4 \n",
      "1 2 3 4 5 \n",
      "1 2 3 4 5 6 \n",
      "1 2 3 4 5 6 7 \n",
      "1 2 3 4 5 6 7 8 \n",
      "1 2 3 4 5 6 7 8 9 \n",
      "1 2 3 4 5 6 7 8 9 10 \n",
      "1 2 3 4 5 6 7 8 9 10 11 \n",
      "1 2 3 4 5 6 7 8 9 10 11 12 \n",
      "1 2 3 4 5 6 7 8 9 10 11 12 13 \n",
      "1 2 3 4 5 6 7 8 9 10 11 12 13 14 \n",
      "1 2 3 4 5 6 7 8 9 10 11 12 13 14 15 \n",
      "1 2 3 4 5 6 7 8 9 10 11 12 13 14 15 16 \n",
      "1 2 3 4 5 6 7 8 9 10 11 12 13 14 15 16 17 \n",
      "1 2 3 4 5 6 7 8 9 10 11 12 13 14 15 16 17 18 \n",
      "1 2 3 4 5 6 7 8 9 10 11 12 13 14 15 16 17 18 19 \n",
      "1 2 3 4 5 6 7 8 9 10 11 12 13 14 15 16 17 18 19 20 \n",
      "1 2 3 4 5 6 7 8 9 10 11 12 13 14 15 16 17 18 19 20 21 \n",
      "1 2 3 4 5 6 7 8 9 10 11 12 13 14 15 16 17 18 19 20 21 22 \n"
     ]
    }
   ],
   "source": [
    "# s=int(input(\"enter a number\"))\n",
    "s = 22\n",
    "for i in range(1,s+1):\n",
    "    for j in range (1,i+1):\n",
    "        print(j,end=\" \")\n",
    "    print()\n",
    "    i+=1"
   ]
  },
  {
   "cell_type": "code",
   "execution_count": 66,
   "metadata": {},
   "outputs": [
    {
     "name": "stdout",
     "output_type": "stream",
     "text": [
      "          * \n",
      "        * * * \n",
      "      * * * * * \n",
      "    * * * * * * * \n",
      "  * * * * * * * * * \n"
     ]
    }
   ],
   "source": [
    "n=5\n",
    "for i in range(n):\n",
    "    for j in range(i,n):\n",
    "        print(\" \",end=\" \")\n",
    "    for j in range(i+1):\n",
    "        print(\"*\",end=\" \")\n",
    "    for j in range(i,):\n",
    "        print(\"*\",end=\" \")\n",
    "    print()"
   ]
  },
  {
   "cell_type": "code",
   "execution_count": 67,
   "metadata": {},
   "outputs": [
    {
     "name": "stdout",
     "output_type": "stream",
     "text": [
      "*                 * \n",
      "* *             * * \n",
      "* * *         * * * \n",
      "* * * *     * * * * \n",
      "* * * * * * * * * * \n",
      "* * * *     * * * * \n",
      "* * *         * * * \n",
      "* *             * * \n",
      "*                 * \n",
      "                    \n"
     ]
    }
   ],
   "source": [
    "n=5\n",
    "for i in range(n):\n",
    "    for j in range (i+1):\n",
    "        print(\"*\",end=\" \")\n",
    "    for j in range (i,n-1):\n",
    "        print(\" \",end=\" \")\n",
    "    for j in range (i,n-1):\n",
    "        print(\" \",end=\" \")\n",
    "    for j in range (i+1):\n",
    "        print(\"*\",end=\" \")\n",
    "    print()\n",
    "for i in range (n):\n",
    "    for j  in range (i,n-1):\n",
    "        print(\"*\",end=\" \")\n",
    "    for j  in range (i+1):\n",
    "        print(\" \",end=\" \")\n",
    "    for j  in range (i+1):\n",
    "        print(\" \",end=\" \")\n",
    "    for j  in range (i,n-1):\n",
    "        print(\"*\",end=\" \")\n",
    "    print()"
   ]
  },
  {
   "cell_type": "code",
   "execution_count": 68,
   "metadata": {},
   "outputs": [
    {
     "name": "stdout",
     "output_type": "stream",
     "text": []
    },
    {
     "name": "stdout",
     "output_type": "stream",
     "text": [
      " * * * * * \n",
      "  * * * * \n",
      "   * * * \n",
      "    * * \n",
      "     * \n",
      "     * \n",
      "    * * \n",
      "   * * * \n",
      "  * * * * \n",
      " * * * * * \n"
     ]
    }
   ],
   "source": [
    "n=5\n",
    "for i in range(n):\n",
    "    for j in range(i+1):\n",
    "        print(\"\",end=' ')\n",
    "    for j in range(i,n):\n",
    "        print(\"*\",end=\" \")\n",
    "    print()\n",
    "for i in range(n):\n",
    "    for j in range(i,n):\n",
    "        print(\"\",end=\" \")\n",
    "    for j  in range (i+1):\n",
    "        print(\"*\",end=\" \")\n",
    "    print()"
   ]
  },
  {
   "cell_type": "code",
   "execution_count": 69,
   "metadata": {},
   "outputs": [
    {
     "name": "stdout",
     "output_type": "stream",
     "text": [
      " * * * * * \n",
      "  * * * * \n",
      "   * * * \n",
      "    * * \n",
      "     * \n"
     ]
    }
   ],
   "source": [
    "n=5\n",
    "for i in range (n):\n",
    "    for j in range(i+1):\n",
    "        print(\" \",end=\"\")\n",
    "    for j in range(i,n):\n",
    "        print(\"*\",end=\" \")  \n",
    "    print()"
   ]
  },
  {
   "cell_type": "code",
   "execution_count": 70,
   "metadata": {},
   "outputs": [
    {
     "name": "stdout",
     "output_type": "stream",
     "text": [
      "          1 \n",
      "        1 2 3 \n",
      "      1 2 3 4 5 \n",
      "    1 2 3 4 5 6 7 \n",
      "  1 2 3 4 5 6 7 8 9 \n"
     ]
    }
   ],
   "source": [
    "n=5\n",
    "\n",
    "for i in range(n):\n",
    "    p=1\n",
    "    for j in range(i,n):\n",
    "        print(\" \",end=\" \")\n",
    "    for j in range(i):\n",
    "        print(p,end=\" \")\n",
    "        p+=1\n",
    "    for j in range(i+1):\n",
    "        print(p,end=\" \")\n",
    "        p+=1\n",
    "    print()"
   ]
  },
  {
   "cell_type": "code",
   "execution_count": 71,
   "metadata": {},
   "outputs": [
    {
     "name": "stdout",
     "output_type": "stream",
     "text": [
      "  5 4 3 2 1 \n",
      "    4 3 2 1 \n",
      "      3 2 1 \n",
      "        2 1 \n",
      "          1 \n"
     ]
    }
   ],
   "source": [
    "n=5\n",
    "p=5\n",
    "for i in range(n):\n",
    "    k=p\n",
    "    for j in range (i+1): \n",
    "        print(' ',end=\" \")\n",
    "    for j in range (i,n):\n",
    "        print(k,end=\" \")\n",
    "        k-=1\n",
    "    p-=1\n",
    "    print()"
   ]
  },
  {
   "cell_type": "code",
   "execution_count": 72,
   "metadata": {},
   "outputs": [
    {
     "name": "stdout",
     "output_type": "stream",
     "text": [
      "          1 \n",
      "        2 2 2 \n",
      "      3 3 3 3 3 \n",
      "    4 4 4 4 4 4 4 \n",
      "  5 5 5 5 5 5 5 5 5 \n",
      "    6 6 6 6 6 6 6 \n",
      "      7 7 7 7 7 \n",
      "        8 8 8 \n",
      "          9 \n"
     ]
    }
   ],
   "source": [
    "n=5\n",
    "p=1\n",
    "for i in range (n-1):\n",
    "    for j in range(i,n):\n",
    "        print(\" \",end=\" \")\n",
    "    for j in range (i+1):\n",
    "        print(p,end=\" \")\n",
    "    for j in range(i):\n",
    "        print(p,end=\" \")\n",
    "    p+=1\n",
    "    print()\n",
    "for i in range(n):\n",
    "    for j in range(i+1):\n",
    "        print(\" \",end=\" \")\n",
    "    for j in range(i,n):\n",
    "        print(p,end=\" \")\n",
    "    for j in range(i+1,n):\n",
    "        print(p,end=\" \")\n",
    "    p+=1\n",
    "    print()"
   ]
  },
  {
   "cell_type": "code",
   "execution_count": 73,
   "metadata": {},
   "outputs": [
    {
     "name": "stdout",
     "output_type": "stream",
     "text": [
      "A \n",
      "C C \n",
      "E E E \n",
      "G G G G \n",
      "I I I I I \n"
     ]
    }
   ],
   "source": [
    "n=5\n",
    "p=65\n",
    "for i in range(n):\n",
    "    for j in range(i+1):\n",
    "        print(chr(p),end=\" \")\n",
    "    p+=2\n",
    "    print()"
   ]
  },
  {
   "cell_type": "code",
   "execution_count": 74,
   "metadata": {},
   "outputs": [
    {
     "name": "stdout",
     "output_type": "stream",
     "text": [
      "c \n",
      "o o \n",
      "d d d \n",
      "e e e e \n",
      "r r r r r \n"
     ]
    }
   ],
   "source": [
    "s= \"coder\"\n",
    "n=len(s)\n",
    "p=0\n",
    "for i in range(n):\n",
    "    for j in  range(i+1):\n",
    "        print(s[p],end=\" \")\n",
    "    p+=1\n",
    "    print()"
   ]
  },
  {
   "cell_type": "code",
   "execution_count": 75,
   "metadata": {},
   "outputs": [
    {
     "name": "stdout",
     "output_type": "stream",
     "text": [
      "c \n",
      "c o \n",
      "c o d \n",
      "c o d e \n",
      "c o d e r \n"
     ]
    }
   ],
   "source": [
    "s= \"coder\"\n",
    "n=len(s)\n",
    "\n",
    "for i in range(n):\n",
    "    p=0\n",
    "    for j in  range(i+1):\n",
    "        print(s[p],end=\" \")\n",
    "        p+=1\n",
    "    print()"
   ]
  },
  {
   "cell_type": "code",
   "execution_count": 76,
   "metadata": {},
   "outputs": [
    {
     "name": "stdout",
     "output_type": "stream",
     "text": [
      "* * * * * * * * * \n",
      "* * * * * * * * * \n",
      "* * * * * * * * * \n",
      "* * * * * * * * * \n",
      "* * * * * * * * * \n",
      "* * * * * * * * * \n",
      "* * * * * * * * * \n",
      "* * * * * * * * * \n",
      "* * * * * * * * * \n"
     ]
    }
   ],
   "source": [
    "n=9\n",
    "for i in range(n):\n",
    "    for j in range (n):\n",
    "        print(\"*\",end=\" \")\n",
    "    print()"
   ]
  },
  {
   "cell_type": "code",
   "execution_count": 77,
   "metadata": {},
   "outputs": [
    {
     "name": "stdout",
     "output_type": "stream",
     "text": [
      "*               * \n",
      "*               * \n",
      "*               * \n",
      "*               * \n",
      "*               * \n",
      "*               * \n",
      "*               * \n",
      "*               * \n",
      "*               * \n"
     ]
    }
   ],
   "source": [
    "n=9\n",
    "for i in range(n):\n",
    "    for j in range(n):\n",
    "        if j==0 or j==n-1:\n",
    "            print(\"*\", end=\" \")\n",
    "        else:\n",
    "            print(\" \",end=\" \")\n",
    "    print()"
   ]
  },
  {
   "cell_type": "code",
   "execution_count": 78,
   "metadata": {},
   "outputs": [
    {
     "name": "stdout",
     "output_type": "stream",
     "text": [
      "        *         \n",
      "        *         \n",
      "        *         \n",
      "        *         \n",
      "* * * * * * * * * \n",
      "        *         \n",
      "        *         \n",
      "        *         \n",
      "        *         \n"
     ]
    }
   ],
   "source": [
    "n=9\n",
    "for i in range(n):\n",
    "    for j in range(n):\n",
    "        if i==n//2 or j==n//2:\n",
    "            print(\"*\", end=\" \")\n",
    "        else:\n",
    "            print(\" \",end=\" \")\n",
    "    print()"
   ]
  },
  {
   "cell_type": "code",
   "execution_count": 79,
   "metadata": {},
   "outputs": [
    {
     "name": "stdout",
     "output_type": "stream",
     "text": [
      "*               * \n",
      "  *           *   \n",
      "    *       *     \n",
      "      *   *       \n",
      "        *         \n",
      "      *   *       \n",
      "    *       *     \n",
      "  *           *   \n",
      "*               * \n"
     ]
    }
   ],
   "source": [
    "n=9\n",
    "for i in range(n):\n",
    "    for j in range(n):\n",
    "        if i==j or i+j==n-1:\n",
    "            print(\"*\", end=\" \")\n",
    "        else:\n",
    "            \n",
    "            print(\" \",end=\" \")\n",
    "    print()"
   ]
  },
  {
   "cell_type": "code",
   "execution_count": 80,
   "metadata": {},
   "outputs": [
    {
     "name": "stdout",
     "output_type": "stream",
     "text": [
      "* * * * * * * * * \n",
      "*               * \n",
      "*               * \n",
      "*               * \n",
      "*               * \n",
      "*               * \n",
      "*               * \n",
      "*               * \n",
      "* * * * * * * * * \n"
     ]
    }
   ],
   "source": [
    "n=9\n",
    "for i in range(n):\n",
    "    for j in range(n):\n",
    "        if i==0 or i==n-1 or j==0 or j==n-1:\n",
    "            print(\"*\", end=\" \")\n",
    "        else:\n",
    "            print(\" \",end=\" \")\n",
    "    print()"
   ]
  },
  {
   "cell_type": "code",
   "execution_count": 81,
   "metadata": {},
   "outputs": [
    {
     "name": "stdout",
     "output_type": "stream",
     "text": [
      "*                 \n",
      "* *               \n",
      "*   *             \n",
      "*     *           \n",
      "*       *         \n",
      "*         *       \n",
      "*           *     \n",
      "*             *   \n",
      "* * * * * * * * * \n"
     ]
    }
   ],
   "source": [
    "n=9\n",
    "for i in range(n):\n",
    "    for j in range(n):\n",
    "        if j==0 or i==n-1 or i==j:\n",
    "            print(\"*\", end=\" \")\n",
    "        else:\n",
    "            print(\" \",end=\" \")\n",
    "    print()"
   ]
  },
  {
   "cell_type": "code",
   "execution_count": 82,
   "metadata": {},
   "outputs": [
    {
     "name": "stdout",
     "output_type": "stream",
     "text": [
      "* * * * * * * * * \n",
      "*             *   \n",
      "*           *     \n",
      "*         *       \n",
      "*       *         \n",
      "*     *           \n",
      "*   *             \n",
      "* *               \n",
      "*                 \n"
     ]
    }
   ],
   "source": [
    "n=9\n",
    "for i in range(n):\n",
    "    for j in range(n):\n",
    "        if i==0 or j==0 or i+j==n-1:\n",
    "            print(\"*\", end=\" \")\n",
    "        else:\n",
    "            print(\" \", end=\" \")   \n",
    "    print()"
   ]
  },
  {
   "cell_type": "code",
   "execution_count": 83,
   "metadata": {},
   "outputs": [
    {
     "name": "stdout",
     "output_type": "stream",
     "text": [
      "                  * \n",
      "                *   * \n",
      "              *       * \n",
      "            *           * \n",
      "          *               * \n",
      "        *                   * \n",
      "      *                       * \n",
      "    *                           * \n",
      "  * * * * * * * * * * * * * * * * * \n"
     ]
    }
   ],
   "source": [
    "n=9\n",
    "for i in range(n):\n",
    "    for j in range(i,n): \n",
    "        print(\" \",end=\" \")\n",
    "    for j in range(i): \n",
    "        if j==0 or i==n-1:\n",
    "            print(\"*\", end=\" \")\n",
    "        else:\n",
    "            print(\" \",end=\" \")\n",
    "    for j in range(i+1):\n",
    "        if i==j or i==n-1:\n",
    "            print(\"*\", end=\" \")\n",
    "        else: \n",
    "            print(\" \",end=\" \")\n",
    "    print()"
   ]
  },
  {
   "cell_type": "code",
   "execution_count": 84,
   "metadata": {},
   "outputs": [
    {
     "name": "stdout",
     "output_type": "stream",
     "text": [
      "                * \n",
      "              *   * \n",
      "            *       * \n",
      "          *           * \n",
      "        *               * \n",
      "      *                   * \n",
      "    *                       * \n",
      "  *                           * \n",
      "*                               * \n",
      "  *                           * \n",
      "    *                       * \n",
      "      *                   * \n",
      "        *               * \n",
      "          *           * \n",
      "            *       * \n",
      "              *   * \n",
      "                * \n"
     ]
    }
   ],
   "source": [
    "n=9\n",
    "for i in range(n-1):\n",
    "    for j in range(i,n-1):\n",
    "        print(\" \",end=\" \")\n",
    "    for j in range(i):\n",
    "        if j == 0:\n",
    "            print(\"*\",end=\" \")\n",
    "        else:\n",
    "            print(\" \",end=\" \")\n",
    "    for j in range (i+1):\n",
    "        if i==j:\n",
    "            print(\"*\", end=\" \")\n",
    "        else:\n",
    "            print(\" \",end=\" \")\n",
    "    print()\n",
    "for i in range(n):\n",
    "    for j in range(i):\n",
    "        print(\" \",end=\" \")\n",
    "    for j in range(i,n):\n",
    "        if j==i:\n",
    "            print(\"*\", end=\" \")\n",
    "        else:\n",
    "            print(\" \",end=\" \")\n",
    "    for j in range(i,n-1):\n",
    "        if j==n-2:\n",
    "            print(\"*\", end=\" \")\n",
    "        else:\n",
    "            print(\" \",end=\" \")\n",
    "    print()"
   ]
  },
  {
   "cell_type": "code",
   "execution_count": 85,
   "metadata": {},
   "outputs": [
    {
     "name": "stdout",
     "output_type": "stream",
     "text": [
      "Yes\n"
     ]
    }
   ],
   "source": [
    "n=1001\n",
    "m=n\n",
    "sum=0\n",
    "while m!=0:\n",
    "    d=m%10\n",
    "    sum=sum*10+d\n",
    "    m=m//10\n",
    "\n",
    "if sum==n:\n",
    "    print(\"Yes\")\n",
    "else:\n",
    "    print(\"No\")"
   ]
  },
  {
   "cell_type": "code",
   "execution_count": 86,
   "metadata": {},
   "outputs": [
    {
     "name": "stdout",
     "output_type": "stream",
     "text": [
      "Yes\n"
     ]
    }
   ],
   "source": [
    "#n = int(input(\"Enter a number: \"))\n",
    "n = 121\n",
    "original_number = n\n",
    "reversed_number = 0\n",
    "while n != 0:\n",
    "    digit = n % 10\n",
    "    reversed_number = reversed_number * 10+ digit\n",
    "    n = n//10\n",
    "\n",
    "if reversed_number == original_number:\n",
    "    print(\"Yes\")\n",
    "else:\n",
    "    print(\"No\")"
   ]
  },
  {
   "cell_type": "code",
   "execution_count": 87,
   "metadata": {},
   "outputs": [
    {
     "name": "stdout",
     "output_type": "stream",
     "text": [
      "Yes\n"
     ]
    }
   ],
   "source": [
    "n=132\n",
    "m=n\n",
    "sum=0\n",
    "prod=1\n",
    "while m!=0:\n",
    "    d=m%10\n",
    "    m=m//10\n",
    "    sum=sum+d\n",
    "    prod=prod*d\n",
    "if sum==prod:\n",
    "    print(\"Yes\")\n",
    "else:\n",
    "    print(\"No\")"
   ]
  },
  {
   "cell_type": "code",
   "execution_count": 88,
   "metadata": {},
   "outputs": [
    {
     "name": "stdout",
     "output_type": "stream",
     "text": [
      "Yes\n"
     ]
    }
   ],
   "source": [
    "n=59\n",
    "m=n\n",
    "sum=0\n",
    "prod=1\n",
    "while m!=0:\n",
    "    d=m%10\n",
    "    m=m//10\n",
    "    sum=sum+d;prod=prod*d\n",
    "if sum+prod==n:\n",
    "    print(\"Yes\")\n",
    "else:\n",
    "    print(\"No\")"
   ]
  },
  {
   "cell_type": "code",
   "execution_count": 89,
   "metadata": {},
   "outputs": [
    {
     "name": "stdout",
     "output_type": "stream",
     "text": [
      "1124 is a spy number\n"
     ]
    }
   ],
   "source": [
    "#n = int(input(\"Enter a number: \"))\n",
    "n = 1124\n",
    "sum_digits=0\n",
    "prod_digits = 1\n",
    "original_number = n\n",
    "while n != 0:\n",
    "    digit = n % 10\n",
    "    n=n//10\n",
    "    sum_digits += digit\n",
    "    prod_digits *= digit\n",
    "if sum_digits == prod_digits:\n",
    "    print(f\"{original_number} is a spy number\")\n",
    "else:\n",
    "    print(f\"{original_number} is not a spy number\")"
   ]
  },
  {
   "cell_type": "code",
   "execution_count": 90,
   "metadata": {},
   "outputs": [
    {
     "name": "stdout",
     "output_type": "stream",
     "text": [
      "Yes\n"
     ]
    }
   ],
   "source": [
    "n=156\n",
    "m=n\n",
    "sum=0\n",
    "prod=1\n",
    "while m!=0:\n",
    "    d=m%10\n",
    "    m=m//10\n",
    "    sum=sum+d\n",
    "if n%sum==0:\n",
    "    print(\"Yes\")\n",
    "else:\n",
    "    print(\"No\")"
   ]
  },
  {
   "cell_type": "code",
   "execution_count": 91,
   "metadata": {},
   "outputs": [
    {
     "name": "stdout",
     "output_type": "stream",
     "text": [
      "Harshad number\n"
     ]
    }
   ],
   "source": [
    "#n = int(input(\"Enter a number: \"))\n",
    "n = 24\n",
    "sum = 0\n",
    "org = n\n",
    "while n!=0:\n",
    "    digit = n%10\n",
    "    n=n//10\n",
    "    sum+=digit\n",
    "if org%sum == 0:\n",
    "    print(\"Harshad number\")\n",
    "else:\n",
    "    print(\"Not a Harshad's number\")"
   ]
  },
  {
   "cell_type": "code",
   "execution_count": 92,
   "metadata": {},
   "outputs": [
    {
     "name": "stdout",
     "output_type": "stream",
     "text": [
      "Yes\n",
      "No of zeroes in number: 4\n"
     ]
    }
   ],
   "source": [
    "n = 1560000\n",
    "m=n\n",
    "count = 0\n",
    "while m!=0:\n",
    "    d=m%10\n",
    "    m=m//10\n",
    "    if d == 0:\n",
    "        count+=1\n",
    "if count>0:\n",
    "    print(\"Yes\")\n",
    "else:\n",
    "    print(\"No\")\n",
    "print(\"No of zeroes in number:\",count)"
   ]
  },
  {
   "cell_type": "code",
   "execution_count": 93,
   "metadata": {},
   "outputs": [
    {
     "name": "stdout",
     "output_type": "stream",
     "text": [
      "Yes\n"
     ]
    }
   ],
   "source": [
    "n = 9\n",
    "m = n**2\n",
    "sum = 0\n",
    "while m!=0:\n",
    "    d = m%10\n",
    "    sum=sum+d\n",
    "    m=m//10\n",
    "if sum==n:\n",
    "    print(\"Yes\")\n",
    "else:\n",
    "    print(\"No\")"
   ]
  },
  {
   "cell_type": "code",
   "execution_count": 94,
   "metadata": {},
   "outputs": [
    {
     "name": "stdout",
     "output_type": "stream",
     "text": [
      "No\n"
     ]
    }
   ],
   "source": [
    "n = 9\n",
    "flag = 0\n",
    "m = n\n",
    "q = n*n\n",
    "while m!=0:\n",
    "    d=m%10;d1=q%10\n",
    "    if d!=d1:\n",
    "        flag = 1\n",
    "    m=m//10;q=q//10\n",
    "if flag==0:\n",
    "    print(\"Yes\")\n",
    "else:\n",
    "    print(\"No\")"
   ]
  },
  {
   "cell_type": "code",
   "execution_count": 95,
   "metadata": {},
   "outputs": [
    {
     "name": "stdout",
     "output_type": "stream",
     "text": [
      "Yes\n"
     ]
    }
   ],
   "source": [
    "import math\n",
    "n = 145\n",
    "m = n\n",
    "sum = 0\n",
    "while m!=0:\n",
    "    d=m%10\n",
    "    sum = sum+math.factorial(d)\n",
    "    m=m//10\n",
    "if sum==n:\n",
    "    print(\"Yes\")\n",
    "else:\n",
    "    print(\"No\")"
   ]
  },
  {
   "cell_type": "code",
   "execution_count": 96,
   "metadata": {},
   "outputs": [
    {
     "name": "stdout",
     "output_type": "stream",
     "text": [
      "1 3 5 9 15 45 "
     ]
    }
   ],
   "source": [
    "#n = int(input(\"Enter a number: \"))\n",
    "n = 45\n",
    "for i in range(1,n+1):\n",
    "    if n%i==0:\n",
    "        print(i,end=\" \")"
   ]
  },
  {
   "cell_type": "code",
   "execution_count": 97,
   "metadata": {},
   "outputs": [
    {
     "name": "stdout",
     "output_type": "stream",
     "text": [
      "Prime\n"
     ]
    }
   ],
   "source": [
    "#n=int(input(\"Enter a number: \"))\n",
    "n = 23\n",
    "count=0\n",
    "for i in range(1,n+1):\n",
    "    if n%i==0:count+=1\n",
    "if count==2:\n",
    "    print(\"Prime\")\n",
    "else:\n",
    "    print(\"Not Prime OR composite\")"
   ]
  },
  {
   "cell_type": "code",
   "execution_count": 98,
   "metadata": {},
   "outputs": [
    {
     "name": "stdout",
     "output_type": "stream",
     "text": [
      "Yes\n"
     ]
    }
   ],
   "source": [
    "#n=int(input(\"Enter a number: \"))\n",
    "n = 6\n",
    "sum=0\n",
    "for i in range(1,n-1):\n",
    "    if n%i==0:\n",
    "        sum=sum+i\n",
    "if n==sum:\n",
    "    print(\"Yes\")\n",
    "else:\n",
    "    print(\"No\")"
   ]
  },
  {
   "cell_type": "code",
   "execution_count": 99,
   "metadata": {},
   "outputs": [
    {
     "name": "stdout",
     "output_type": "stream",
     "text": [
      "Composite number\n"
     ]
    }
   ],
   "source": [
    "#n=int(input(\"Enter a number: \"))\n",
    "n = 34\n",
    "count=0\n",
    "for i in range(1,n+1):\n",
    "    if n%i==0:count+=1\n",
    "if count>2:\n",
    "    print(\"Composite number\")\n",
    "else:\n",
    "    print(\"Not a Composite number\")"
   ]
  },
  {
   "cell_type": "code",
   "execution_count": 100,
   "metadata": {},
   "outputs": [
    {
     "name": "stdout",
     "output_type": "stream",
     "text": [
      "Deficient number\n"
     ]
    }
   ],
   "source": [
    "#n=int(input(\"Enter a number: \"))\n",
    "n = 34\n",
    "sum = 0\n",
    "for i in range(1,n):\n",
    "    if n%i==0:\n",
    "        sum=sum+i\n",
    "if sum>n:\n",
    "    print(\"Abundant number\")\n",
    "else:\n",
    "    print(\"Deficient number\")\n"
   ]
  },
  {
   "cell_type": "code",
   "execution_count": 101,
   "metadata": {},
   "outputs": [
    {
     "name": "stdout",
     "output_type": "stream",
     "text": [
      "7 x 8 = 56\n",
      "Pronic number\n"
     ]
    }
   ],
   "source": [
    "#n=int(input(\"Enter a number: \"))\n",
    "n = 56\n",
    "fact = 0\n",
    "for i in range(1,n+1):\n",
    "    if(i*(i+1)==n):\n",
    "        print(f\"{i} x {i+1} = {n}\")\n",
    "        fact = i\n",
    "if fact > 0:\n",
    "    print(\"Pronic number\")\n",
    "else:\n",
    "    print(\"Not a Pronic number\")"
   ]
  },
  {
   "cell_type": "code",
   "execution_count": 102,
   "metadata": {},
   "outputs": [
    {
     "name": "stdout",
     "output_type": "stream",
     "text": [
      "Sum of series: 210\n"
     ]
    }
   ],
   "source": [
    "#n=int(input(\"Enter N: \"))\n",
    "n = 20\n",
    "sum = 0\n",
    "for i in range(1,n+1):\n",
    "    sum = sum+i\n",
    "print(\"Sum of series:\",sum)"
   ]
  },
  {
   "cell_type": "code",
   "execution_count": 103,
   "metadata": {},
   "outputs": [
    {
     "name": "stdout",
     "output_type": "stream",
     "text": [
      "Sum of series: 940\n"
     ]
    }
   ],
   "source": [
    "#n=int(input(\"Enter N: \"))\n",
    "n = 20\n",
    "sum = 0\n",
    "a = 9\n",
    "for i in range(1,n+1):\n",
    "    sum = sum+a\n",
    "    a+=4\n",
    "print(\"Sum of series:\",sum)"
   ]
  },
  {
   "cell_type": "code",
   "execution_count": 104,
   "metadata": {},
   "outputs": [
    {
     "name": "stdout",
     "output_type": "stream",
     "text": [
      "Sum of series: 420\n"
     ]
    }
   ],
   "source": [
    "#n=int(input(\"Enter N: \"))\n",
    "n = 20\n",
    "sum = 0\n",
    "a = 2\n",
    "for i in range(1,n+1):\n",
    "    sum = sum+a\n",
    "    a+=2\n",
    "print(\"Sum of series:\",sum)"
   ]
  },
  {
   "cell_type": "code",
   "execution_count": 105,
   "metadata": {},
   "outputs": [
    {
     "name": "stdout",
     "output_type": "stream",
     "text": [
      "Sum of series: 400\n"
     ]
    }
   ],
   "source": [
    "#n=int(input(\"Enter N: \"))\n",
    "n = 20\n",
    "sum = 0\n",
    "a = 1\n",
    "for i in range(1,n+1):\n",
    "    sum = sum+a\n",
    "    a+=2\n",
    "print(\"Sum of series:\",sum)"
   ]
  },
  {
   "cell_type": "code",
   "execution_count": 106,
   "metadata": {},
   "outputs": [
    {
     "name": "stdout",
     "output_type": "stream",
     "text": [
      "Sum of series: 55\n"
     ]
    }
   ],
   "source": [
    "#n=int(input(\"Enter N: \"))\n",
    "n = 10\n",
    "sum = 0\n",
    "a = 10\n",
    "for i in range(1,n+1):\n",
    "    sum = sum+a\n",
    "    a-=1\n",
    "print(\"Sum of series:\",sum)"
   ]
  },
  {
   "cell_type": "code",
   "execution_count": 107,
   "metadata": {},
   "outputs": [
    {
     "name": "stdout",
     "output_type": "stream",
     "text": [
      "Sum of series: 88572\n"
     ]
    }
   ],
   "source": [
    "#n=int(input(\"Enter N: \"))\n",
    "#x=int(input(\"Enter X: \"))\n",
    "n = 10\n",
    "x = 3\n",
    "sum = 0\n",
    "a = 10\n",
    "for i in range(1,n+1):\n",
    "    sum = sum + x**i\n",
    "print(\"Sum of series:\",sum)"
   ]
  },
  {
   "cell_type": "code",
   "execution_count": 108,
   "metadata": {},
   "outputs": [
    {
     "name": "stdout",
     "output_type": "stream",
     "text": [
      "Sum of series: 5.981112715901029e+55\n"
     ]
    }
   ],
   "source": [
    "import math as m\n",
    "#n=int(input(\"Enter N: \"))\n",
    "#x=int(input(\"Enter X: \"))\n",
    "n = 10\n",
    "x = 2\n",
    "sum = 0\n",
    "a = 9\n",
    "for i in range(1,n+1):\n",
    "    sum = sum + m.factorial(a)/x\n",
    "    a+=4\n",
    "print(\"Sum of series:\",sum)"
   ]
  },
  {
   "cell_type": "code",
   "execution_count": 109,
   "metadata": {},
   "outputs": [
    {
     "name": "stdout",
     "output_type": "stream",
     "text": [
      "Sum of series: 11480\n"
     ]
    }
   ],
   "source": [
    "#n=int(input(\"Enter N: \"))\n",
    "#x=int(input(\"Enter X: \"))\n",
    "n = 20\n",
    "x = 2\n",
    "sum = 0\n",
    "a = 2\n",
    "for i in range(1,n+1):\n",
    "    sum = sum + a**x\n",
    "    a+=2\n",
    "print(\"Sum of series:\",sum)"
   ]
  },
  {
   "cell_type": "code",
   "execution_count": 110,
   "metadata": {},
   "outputs": [
    {
     "name": "stdout",
     "output_type": "stream",
     "text": [
      "Sum of series: 159800.0\n"
     ]
    }
   ],
   "source": [
    "#n=int(input(\"Enter N: \"))\n",
    "#x=int(input(\"Enter X: \"))\n",
    "n = 20\n",
    "x = 2\n",
    "sum = 0\n",
    "a = 1\n",
    "for i in range(1,n+1):\n",
    "    sum = sum + (a**3)/x\n",
    "    a+=2\n",
    "print(\"Sum of series:\",sum)"
   ]
  },
  {
   "cell_type": "code",
   "execution_count": 111,
   "metadata": {},
   "outputs": [
    {
     "name": "stdout",
     "output_type": "stream",
     "text": [
      "Sum of series: 44.43730158730159\n"
     ]
    }
   ],
   "source": [
    "n = 10\n",
    "sum = 0\n",
    "a = 2\n",
    "b = 10\n",
    "for i in range(1,n+1):\n",
    "    sum = sum + a/b\n",
    "    a+=2;b-=1\n",
    "print(\"Sum of series:\",sum)"
   ]
  },
  {
   "cell_type": "code",
   "execution_count": 112,
   "metadata": {},
   "outputs": [
    {
     "name": "stdout",
     "output_type": "stream",
     "text": [
      "Sum of series: 4194300\n"
     ]
    }
   ],
   "source": [
    "#n=int(input(\"Enter N: \"))\n",
    "n = 20\n",
    "sum = 0\n",
    "a = 2\n",
    "for i in range(1,n+1):\n",
    "    sum = sum + a*2\n",
    "    a*=2\n",
    "print(\"Sum of series:\",sum)"
   ]
  },
  {
   "cell_type": "code",
   "execution_count": 113,
   "metadata": {},
   "outputs": [
    {
     "name": "stdout",
     "output_type": "stream",
     "text": [
      "Sum of series: 3486784400\n"
     ]
    }
   ],
   "source": [
    "#n=int(input(\"Enter N: \"))\n",
    "n = 20\n",
    "sum = 0\n",
    "a = 2\n",
    "for i in range(1,n+1):\n",
    "    sum = sum + a\n",
    "    a*=3\n",
    "print(\"Sum of series:\",sum)"
   ]
  },
  {
   "cell_type": "code",
   "execution_count": 114,
   "metadata": {},
   "outputs": [
    {
     "name": "stdout",
     "output_type": "stream",
     "text": [
      "Sum of series: 17433922000\n"
     ]
    }
   ],
   "source": [
    "#n=int(input(\"Enter N: \"))\n",
    "n = 20\n",
    "sum = 0\n",
    "a = 10\n",
    "for i in range(1,n+1):\n",
    "    sum = sum + a\n",
    "    a*=3\n",
    "print(\"Sum of series:\",sum)"
   ]
  },
  {
   "cell_type": "code",
   "execution_count": 115,
   "metadata": {},
   "outputs": [
    {
     "name": "stdout",
     "output_type": "stream",
     "text": [
      "Sum of series: 147620\n"
     ]
    }
   ],
   "source": [
    "#n=int(input(\"Enter N: \"))\n",
    "n = 10\n",
    "sum = 0\n",
    "a = 5\n",
    "for i in range(1,n+1):\n",
    "    sum = sum + a\n",
    "    a*=3\n",
    "print(\"Sum of series:\",sum)"
   ]
  },
  {
   "cell_type": "code",
   "execution_count": 116,
   "metadata": {},
   "outputs": [
    {
     "name": "stdout",
     "output_type": "stream",
     "text": [
      "Sum of series: 1.998046875\n"
     ]
    }
   ],
   "source": [
    "#n=int(input(\"Enter N: \"))\n",
    "#x=int(input(\"Enter X: \"))\n",
    "n = 10\n",
    "x = 2\n",
    "sum = 0\n",
    "a = 2\n",
    "for i in range(1,n+1):\n",
    "    sum = sum + x/a\n",
    "    a*=2\n",
    "print(\"Sum of series:\",sum)"
   ]
  },
  {
   "cell_type": "code",
   "execution_count": 117,
   "metadata": {},
   "outputs": [
    {
     "name": "stdout",
     "output_type": "stream",
     "text": [
      "Sum of series: -1743392200\n"
     ]
    }
   ],
   "source": [
    "#n=int(input(\"Enter N: \"))\n",
    "n = 20\n",
    "sum = 0\n",
    "a = 2\n",
    "for i in range(1,n+1):\n",
    "    if i%2==0:\n",
    "        sum = sum - a\n",
    "    else:\n",
    "        sum  = sum + a\n",
    "    a*=3\n",
    "print(\"Sum of series:\",sum)"
   ]
  },
  {
   "cell_type": "code",
   "execution_count": 118,
   "metadata": {},
   "outputs": [
    {
     "name": "stdout",
     "output_type": "stream",
     "text": [
      "Sum of series: 0.7499364934207186\n"
     ]
    }
   ],
   "source": [
    "#n=int(input(\"Enter N: \"))\n",
    "#x=int(input(\"Enter X: \"))\n",
    "n = 10\n",
    "x = 2\n",
    "sum = 0\n",
    "a = 2\n",
    "b = 10\n",
    "for i in range(1,n+1):\n",
    "    sum = sum + (x+a)/b\n",
    "    a+=2\n",
    "    b*=3\n",
    "print(\"Sum of series:\",sum)"
   ]
  },
  {
   "cell_type": "code",
   "execution_count": 119,
   "metadata": {},
   "outputs": [
    {
     "name": "stdout",
     "output_type": "stream",
     "text": [
      "Sum of series: 34570.38\n"
     ]
    }
   ],
   "source": [
    "import math as m\n",
    "#n=int(input(\"Enter N: \"))\n",
    "#x=int(input(\"Enter X: \"))\n",
    "n = 5\n",
    "x = 2\n",
    "sum = 0\n",
    "a = 5\n",
    "b = 2\n",
    "for i in range(1,n+1):\n",
    "    sum = sum + (x*a**2)/(i+m.factorial(b))\n",
    "    a*=5\n",
    "    b+=1\n",
    "print(\"Sum of series:\",round(sum,2))"
   ]
  },
  {
   "cell_type": "code",
   "execution_count": 120,
   "metadata": {},
   "outputs": [
    {
     "name": "stdout",
     "output_type": "stream",
     "text": [
      "801141011127311011511697\n",
      "PrepInsta\n"
     ]
    }
   ],
   "source": [
    "#s=input('Enter the string:')\n",
    "s = '796115110113721110141108'\n",
    "s= s[::-1]\n",
    "print(s)\n",
    "i=0\n",
    "res=\"\"\n",
    "\n",
    "while(i<len(s)-1):\n",
    "    x=s[i]+s[i+1]\n",
    "    if x==\"32\":\n",
    "        res=res+\" \"\n",
    "    elif int(x) in range (65,91) or int(x) in range (97,123):\n",
    "        res=res+chr(int(x))\n",
    "    elif i+2<len(s):\n",
    "        x=x+s[i+2]\n",
    "        res=res+chr(int(x))\n",
    "        i+=1\n",
    "    i+=2\n",
    "print(res)"
   ]
  },
  {
   "cell_type": "code",
   "execution_count": 121,
   "metadata": {},
   "outputs": [
    {
     "name": "stdout",
     "output_type": "stream",
     "text": [
      "This is a class method.\n",
      "using class variable:I am a class variable\n"
     ]
    }
   ],
   "source": [
    "class Myclass:\n",
    "    a = \"I am a class variable\"\n",
    "    \n",
    "    def _init_(self,len):\n",
    "        self.length = len\n",
    "        \n",
    "    @classmethod\n",
    "    def class_method(cls):\n",
    "        print(\"This is a class method.\")\n",
    "        print(f\"using class variable:{cls.a}\")\n",
    "        \n",
    "#using class method without creating an instance\n",
    "Myclass.class_method()"
   ]
  },
  {
   "cell_type": "code",
   "execution_count": 122,
   "metadata": {},
   "outputs": [
    {
     "name": "stdout",
     "output_type": "stream",
     "text": [
      "Total number of instances created: 0\n"
     ]
    }
   ],
   "source": [
    "class InstanceCounter:\n",
    "    count = 0\n",
    "    \n",
    "    def _init_(self):\n",
    "        InstanceCounter.count += 1\n",
    "        \n",
    "    @classmethod\n",
    "    def get_instance_count(cls):\n",
    "        return cls.count\n",
    "\n",
    "instance1 = InstanceCounter()\n",
    "instance2 = InstanceCounter()\n",
    "instance3 = InstanceCounter()\n",
    "\n",
    "total_instances = InstanceCounter.get_instance_count()\n",
    "print(f\"Total number of instances created: {total_instances}\")"
   ]
  },
  {
   "cell_type": "code",
   "execution_count": 123,
   "metadata": {},
   "outputs": [
    {
     "name": "stdout",
     "output_type": "stream",
     "text": [
      "This is a static method.\n",
      "It doesn't have access to instance variables or self.\n"
     ]
    }
   ],
   "source": [
    "class MyClass:\n",
    "    class_variable = \"I am a class variable\"\n",
    "    \n",
    "    def _init__(self, instance_variable):\n",
    "        self.instance_variable = instance_variable\n",
    "        \n",
    "    @staticmethod\n",
    "    def static_method():\n",
    "        print(\"This is a static method.\")\n",
    "        print(\"It doesn't have access to instance variables or self.\")\n",
    "\n",
    "MyClass.static_method()"
   ]
  },
  {
   "cell_type": "code",
   "execution_count": 124,
   "metadata": {},
   "outputs": [
    {
     "name": "stdout",
     "output_type": "stream",
     "text": [
      "Addition: 8\n",
      "Subtraction: 4\n",
      "Multiplication: 12\n",
      "Division: 5.0\n"
     ]
    }
   ],
   "source": [
    "class Calculator:\n",
    "    @staticmethod\n",
    "    def add(x, y):\n",
    "        return x + y\n",
    "        \n",
    "    @staticmethod\n",
    "    def subtract(x, y):\n",
    "        return x - y\n",
    "        \n",
    "    @staticmethod\n",
    "    def multiply(x, y):\n",
    "        return x * y\n",
    "        \n",
    "    @staticmethod\n",
    "    def divide(x, y):\n",
    "        if y != 0:\n",
    "            return x / y\n",
    "        else:\n",
    "            print(\"Cannot divide by zero.\")\n",
    "            return None\n",
    "\n",
    "result_add = Calculator.add(5, 3)\n",
    "print(f\"Addition: {result_add}\")\n",
    "\n",
    "result_subtract = Calculator.subtract(8, 4)\n",
    "print(f\"Subtraction: {result_subtract}\")\n",
    "\n",
    "result_multiply = Calculator.multiply(2, 6)\n",
    "print(f\"Multiplication: {result_multiply}\")\n",
    "\n",
    "result_divide = Calculator.divide(10, 2)\n",
    "print(f\"Division: {result_divide}\")"
   ]
  },
  {
   "cell_type": "code",
   "execution_count": 125,
   "metadata": {},
   "outputs": [
    {
     "name": "stdout",
     "output_type": "stream",
     "text": [
      "radius: 5\n",
      "area: 78.5\n"
     ]
    }
   ],
   "source": [
    "class Circle:\n",
    "    def __init__(self, radius):\n",
    "        self._radius = radius\n",
    "        \n",
    "    @property\n",
    "    def radius (self):\n",
    "        \"\"\"Getter method for radius\"\"\"\n",
    "        return self._radius\n",
    "        \n",
    "    @radius.setter\n",
    "    def radius (self, value):\n",
    "        \"\"\"setter method for radius\"\"\"\n",
    "        if value < 0:\n",
    "            raise ValueError(\"Value cannot be negative\")\n",
    "        self._radius=value\n",
    "        \n",
    "    @property\n",
    "    def area(self):\n",
    "        \"\"\"method to calculate the area\"\"\"\n",
    "        return 3.14 * self._radius**2\n",
    "\n",
    "obj = Circle(radius=5)\n",
    "print(f\"radius: {obj.radius}\")\n",
    "print(f\"area: {obj.area}\")"
   ]
  },
  {
   "cell_type": "code",
   "execution_count": 126,
   "metadata": {},
   "outputs": [
    {
     "name": "stdout",
     "output_type": "stream",
     "text": [
      "1 2 3\n",
      "(4, 5, 6, 7)\n",
      "{'foo': 1, 'bar': 2}\n",
      "1 2 3\n",
      "()\n",
      "{}\n",
      "1 2 3\n",
      "('Testing',)\n",
      "{'foo': 1, 'bar': 2}\n"
     ]
    }
   ],
   "source": [
    "def print_params(x,y,z=3,*pospar,**keypar):\n",
    "    print(x,y,z)\n",
    "    print(pospar)\n",
    "    print(keypar)\n",
    "\n",
    "print_params(1,2,3,4,5,6,7, foo=1, bar=2)\n",
    "print_params(1,2)\n",
    "print_params(1,2,3,'Testing',foo=1, bar=2)"
   ]
  },
  {
   "cell_type": "code",
   "execution_count": 127,
   "metadata": {},
   "outputs": [
    {
     "name": "stdout",
     "output_type": "stream",
     "text": [
      "5,7\n",
      "6,12\n"
     ]
    }
   ],
   "source": [
    "class Point:\n",
    "    def __init__(self,x=0,y=0):\n",
    "        self.x = x\n",
    "        self.y = y\n",
    "    def __add__(self, other):\n",
    "        return Point(self.x + other.x, self.y + other.y)\n",
    "    def __mul__(self, other):\n",
    "        if isinstance (other, Point):\n",
    "            return Point(self.x*other.x, self.y*other.y)\n",
    "        else:\n",
    "            return Point(self.x*other, self.y*other)\n",
    "    def __rmul__(self, other):\n",
    "        return Point(self.x*other, self.y * other)\n",
    "    def __repr__(self):\n",
    "        return (\"{0},{1}\".format(self.x, self.y))\n",
    "        \n",
    "p1= Point(2,3)\n",
    "p2= Point(3,4)\n",
    "\n",
    "print(p1 + p2)\n",
    "print(p1*p2)"
   ]
  },
  {
   "cell_type": "code",
   "execution_count": 128,
   "metadata": {},
   "outputs": [
    {
     "name": "stdout",
     "output_type": "stream",
     "text": [
      "Abe sahi file name enter kar le...\n"
     ]
    }
   ],
   "source": [
    "try:\n",
    "    fhand = open('jatin pg.txt')\n",
    "    print (fhand)\n",
    "except FileNotFoundError:\n",
    "    print(\"Abe sahi file name enter kar le...\")"
   ]
  },
  {
   "cell_type": "code",
   "execution_count": null,
   "metadata": {},
   "outputs": [],
   "source": [
    "fhand = open('mbox-short.txt')\n",
    "inp = fhand.read()\n",
    "print(len(inp))\n",
    "print(inp[:20])"
   ]
  },
  {
   "cell_type": "code",
   "execution_count": null,
   "metadata": {},
   "outputs": [],
   "source": [
    "fhand = open('mbox-short.txt')\n",
    "for line in fhand:\n",
    "    if line.startswith(\"From:\"):\n",
    "        print(line)"
   ]
  },
  {
   "cell_type": "code",
   "execution_count": null,
   "metadata": {},
   "outputs": [],
   "source": [
    "fhand = open('mbox-short.txt')\n",
    "for line in fhand:\n",
    "    line = line.rstrip()\n",
    "    if line.startswith(\"From:\"):\n",
    "        print(line)"
   ]
  },
  {
   "cell_type": "code",
   "execution_count": null,
   "metadata": {},
   "outputs": [],
   "source": [
    "fhand = open('mbox-short.txt')\n",
    "for line in fhand:\n",
    "    line = line.rstrip()\n",
    "    if not line.startswith(\"From:\"):\n",
    "        continue\n",
    "    print(line)"
   ]
  },
  {
   "cell_type": "code",
   "execution_count": null,
   "metadata": {},
   "outputs": [],
   "source": [
    "fname input(\"Enter the file name:\")\n",
    "try:\n",
    "    fhand open(fname)\n",
    "except:\n",
    "    print(\"File cannot be opened:\", fname)\n",
    "    exit()\n",
    "count = 0\n",
    "for line in fhand:\n",
    "    if line.startswith('Subject:'):\n",
    "        count count + 1\n",
    "print('There were', count, 'subject lines in', fname)"
   ]
  },
  {
   "cell_type": "code",
   "execution_count": 134,
   "metadata": {},
   "outputs": [
    {
     "name": "stdout",
     "output_type": "stream",
     "text": [
      "<_io.TextIOWrapper name='output.txt' mode='w' encoding='UTF-8'>\n",
      "This is the first line\n",
      "This is the second line\n",
      "\n"
     ]
    }
   ],
   "source": [
    "fout = open('output.txt', 'w')\n",
    "print (fout)\n",
    "\n",
    "line1 = \"This is the first line\\n\"\n",
    "fout.write(line1)\n",
    "\n",
    "line2 = \"This is the second line\\n\"\n",
    "fout.write(line2)\n",
    "\n",
    "fout.close()\n",
    "\n",
    "fout = open('output.txt','r')\n",
    "\n",
    "inp = fout.read()\n",
    "print(inp)\n",
    "\n",
    "fout.close()"
   ]
  },
  {
   "cell_type": "code",
   "execution_count": null,
   "metadata": {},
   "outputs": [],
   "source": [
    "try:\n",
    "    fname = input(\"Enter file name:\")\n",
    "    fhand = open(fname)\n",
    "except:\n",
    "    if fname=='na na boo boo':\n",
    "        print(\"NA NA BOO BOO TO YOU - You have been punk'd!\")\n",
    "    else:\n",
    "        print(\"Please enter correct file name:\", fname)\n",
    "count = 0\n",
    "total = 0\n",
    "try:\n",
    "    for line in fhand:\n",
    "        if line.startswith(\"X-DSPAM-Confidence:\"):\n",
    "            count = count + 1\n",
    "            start = line.find(\" \")\n",
    "            num = float(line[start:])\n",
    "            total += num\n",
    "        avg = total/count\n",
    "        print(\"Average spam confidence:\",avg)\n",
    "except ZeroDivisionError:\n",
    "    print(\"C\")"
   ]
  },
  {
   "cell_type": "code",
   "execution_count": null,
   "metadata": {},
   "outputs": [],
   "source": []
  }
 ],
 "metadata": {
  "kernelspec": {
   "display_name": "Python 3 (ipykernel)",
   "language": "python",
   "name": "python3"
  },
  "language_info": {
   "codemirror_mode": {
    "name": "ipython",
    "version": 3
   },
   "file_extension": ".py",
   "mimetype": "text/x-python",
   "name": "python",
   "nbconvert_exporter": "python",
   "pygments_lexer": "ipython3",
   "version": "3.12.7"
  }
 },
 "nbformat": 4,
 "nbformat_minor": 4
}
